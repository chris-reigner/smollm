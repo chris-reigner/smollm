{
 "cells": [
  {
   "cell_type": "markdown",
   "id": "93d3c6ed-f577-4464-acc6-f95febb38e99",
   "metadata": {},
   "source": [
    "# SmolLM QLorA Fine-Tuning"
   ]
  },
  {
   "cell_type": "markdown",
   "id": "5d6444b1-ad37-43ba-8312-c4cbecd5d3a9",
   "metadata": {},
   "source": [
    "In this notebook, we explore another fine tuning technique: QLorA.\n",
    "You can find a lot of explanation online and in the QLorA papers.\n",
    "\n",
    "Long story short, Quantized Low-rank adaption is a fine tuning technique that allows the model:\n",
    "- to infer on a smaller type of data (lower compute storage)\n",
    "- to adapt adding one or several adapters on the top of the original weights\n",
    "\n",
    "It's interesting because compared to SFT, you can have multiple adapters and allow for serving the same model with these adapters. So you actually train a \"small\" number of parameters.\n",
    "\n",
    "However, the training is usually longer than SFT."
   ]
  },
  {
   "cell_type": "code",
   "execution_count": null,
   "id": "b6d75975-d41e-45a1-bf06-48a925d0858d",
   "metadata": {},
   "outputs": [],
   "source": [
    "!pip install transformers==4.54.1 datasets==4.0.0 trl==0.20.0 peft==0.16.0 torch torchsummary -q "
   ]
  },
  {
   "cell_type": "code",
   "execution_count": 1,
   "id": "2da602df-5d7f-4470-aad4-e50656b7b314",
   "metadata": {
    "execution": {
     "iopub.execute_input": "2025-08-01T07:08:02.636921Z",
     "iopub.status.busy": "2025-08-01T07:08:02.636590Z",
     "iopub.status.idle": "2025-08-01T07:08:10.277459Z",
     "shell.execute_reply": "2025-08-01T07:08:10.276964Z",
     "shell.execute_reply.started": "2025-08-01T07:08:02.636903Z"
    }
   },
   "outputs": [
    {
     "name": "stderr",
     "output_type": "stream",
     "text": [
      "2025-08-01 07:08:07.736077: E external/local_xla/xla/stream_executor/cuda/cuda_fft.cc:477] Unable to register cuFFT factory: Attempting to register factory for plugin cuFFT when one has already been registered\n",
      "WARNING: All log messages before absl::InitializeLog() is called are written to STDERR\n",
      "E0000 00:00:1754032087.752870    5335 cuda_dnn.cc:8310] Unable to register cuDNN factory: Attempting to register factory for plugin cuDNN when one has already been registered\n",
      "E0000 00:00:1754032087.757917    5335 cuda_blas.cc:1418] Unable to register cuBLAS factory: Attempting to register factory for plugin cuBLAS when one has already been registered\n",
      "2025-08-01 07:08:07.774390: I tensorflow/core/platform/cpu_feature_guard.cc:210] This TensorFlow binary is optimized to use available CPU instructions in performance-critical operations.\n",
      "To enable the following instructions: SSE4.1 SSE4.2 AVX AVX2 FMA, in other operations, rebuild TensorFlow with the appropriate compiler flags.\n"
     ]
    }
   ],
   "source": [
    "from transformers import AutoModelForCausalLM, AutoTokenizer\n",
    "from datasets import load_dataset\n",
    "from trl import SFTConfig, SFTTrainer, setup_chat_format\n",
    "import torch\n",
    "import os\n",
    "from datasets import load_dataset\n",
    "from transformers import pipeline\n",
    "import json\n",
    "from peft import LoraConfig, AutoPeftModelForCausalLM"
   ]
  },
  {
   "cell_type": "code",
   "execution_count": 2,
   "id": "54f02a65-39cf-46e4-9fa6-60507cf6334c",
   "metadata": {
    "execution": {
     "iopub.execute_input": "2025-08-01T07:08:10.278911Z",
     "iopub.status.busy": "2025-08-01T07:08:10.278293Z",
     "iopub.status.idle": "2025-08-01T07:08:10.369421Z",
     "shell.execute_reply": "2025-08-01T07:08:10.368932Z",
     "shell.execute_reply.started": "2025-08-01T07:08:10.278894Z"
    }
   },
   "outputs": [
    {
     "name": "stdout",
     "output_type": "stream",
     "text": [
      "Device is:cuda\n",
      "Type of card: 8. (8 and above does not support flash attention)\n"
     ]
    }
   ],
   "source": [
    "# Make sure the device is cuda\n",
    "\n",
    "device = (\n",
    "\"cuda\"\n",
    "if torch.cuda.is_available()\n",
    "else \"mps\" if torch.backends.mps.is_available() else \"cpu\"\n",
    ")\n",
    "print(f'Device is:{device}')\n",
    "print(f'Type of card: {torch.cuda.get_device_capability()[0]}. (8 and above does not support flash attention)')"
   ]
  },
  {
   "cell_type": "code",
   "execution_count": 3,
   "id": "0fb6b466-96ab-49f5-942d-295e6035327e",
   "metadata": {
    "execution": {
     "iopub.execute_input": "2025-08-01T07:08:10.370157Z",
     "iopub.status.busy": "2025-08-01T07:08:10.369943Z",
     "iopub.status.idle": "2025-08-01T07:08:10.373332Z",
     "shell.execute_reply": "2025-08-01T07:08:10.372877Z",
     "shell.execute_reply.started": "2025-08-01T07:08:10.370141Z"
    }
   },
   "outputs": [],
   "source": [
    "model_name = \"HuggingFaceTB/SmolLM2-360M\"\n",
    "dataset_name = \"HuggingFaceTB/smoltalk\"\n",
    "model_cache_dir=model_name.split('/')[-1]\n",
    "config_name = \"smol-summarize\"\n",
    "dataset_cache_dir=f\"{dataset_name.replace('/', '')}_{config_name}\"\n",
    "output_dir = \"./sft_text_summary_360_qlora\""
   ]
  },
  {
   "cell_type": "code",
   "execution_count": 4,
   "id": "2428f0f9-e252-422b-bd53-fe2438e00d4e",
   "metadata": {
    "execution": {
     "iopub.execute_input": "2025-08-01T07:08:10.374537Z",
     "iopub.status.busy": "2025-08-01T07:08:10.374265Z",
     "iopub.status.idle": "2025-08-01T07:08:11.979787Z",
     "shell.execute_reply": "2025-08-01T07:08:11.979282Z",
     "shell.execute_reply.started": "2025-08-01T07:08:10.374522Z"
    }
   },
   "outputs": [],
   "source": [
    "#Load the model and tokenizer\n",
    "\n",
    "model = AutoModelForCausalLM.from_pretrained(\n",
    "pretrained_model_name_or_path=model_name,\n",
    "cache_dir=model_cache_dir,\n",
    "    device_map='cuda',\n",
    ")\n",
    "tokenizer = AutoTokenizer.from_pretrained(\n",
    "pretrained_model_name_or_path=model_name,\n",
    "cache_dir=model_cache_dir\n",
    ")\n",
    "model, tokenizer = setup_chat_format(model=model, tokenizer=tokenizer)"
   ]
  },
  {
   "cell_type": "code",
   "execution_count": 5,
   "id": "7d4b6e98-52d1-42f7-a00f-2c6f9328f39f",
   "metadata": {
    "execution": {
     "iopub.execute_input": "2025-08-01T07:08:11.980519Z",
     "iopub.status.busy": "2025-08-01T07:08:11.980343Z",
     "iopub.status.idle": "2025-08-01T07:08:11.983936Z",
     "shell.execute_reply": "2025-08-01T07:08:11.983486Z",
     "shell.execute_reply.started": "2025-08-01T07:08:11.980499Z"
    }
   },
   "outputs": [
    {
     "name": "stdout",
     "output_type": "stream",
     "text": [
      "LlamaConfig {\n",
      "  \"architectures\": [\n",
      "    \"LlamaForCausalLM\"\n",
      "  ],\n",
      "  \"attention_bias\": false,\n",
      "  \"attention_dropout\": 0.0,\n",
      "  \"bos_token_id\": 1,\n",
      "  \"eos_token_id\": 2,\n",
      "  \"head_dim\": 64,\n",
      "  \"hidden_act\": \"silu\",\n",
      "  \"hidden_size\": 960,\n",
      "  \"initializer_range\": 0.02,\n",
      "  \"intermediate_size\": 2560,\n",
      "  \"is_llama_config\": true,\n",
      "  \"max_position_embeddings\": 8192,\n",
      "  \"mlp_bias\": false,\n",
      "  \"model_type\": \"llama\",\n",
      "  \"num_attention_heads\": 15,\n",
      "  \"num_hidden_layers\": 32,\n",
      "  \"num_key_value_heads\": 5,\n",
      "  \"pad_token_id\": 2,\n",
      "  \"pretraining_tp\": 1,\n",
      "  \"rms_norm_eps\": 1e-05,\n",
      "  \"rope_interleaved\": false,\n",
      "  \"rope_scaling\": null,\n",
      "  \"rope_theta\": 100000,\n",
      "  \"tie_word_embeddings\": true,\n",
      "  \"torch_dtype\": \"float32\",\n",
      "  \"transformers_version\": \"4.54.1\",\n",
      "  \"use_cache\": true,\n",
      "  \"vocab_size\": 49152\n",
      "}\n",
      "\n"
     ]
    }
   ],
   "source": [
    "print(model.config)"
   ]
  },
  {
   "cell_type": "code",
   "execution_count": 6,
   "id": "7d45473f-c785-47c1-9b2f-0b9f3fc0b777",
   "metadata": {
    "execution": {
     "iopub.execute_input": "2025-08-01T07:08:11.984587Z",
     "iopub.status.busy": "2025-08-01T07:08:11.984423Z",
     "iopub.status.idle": "2025-08-01T07:08:13.378168Z",
     "shell.execute_reply": "2025-08-01T07:08:13.377703Z",
     "shell.execute_reply.started": "2025-08-01T07:08:11.984572Z"
    }
   },
   "outputs": [
    {
     "data": {
      "text/plain": [
       "DatasetDict({\n",
       "    train: Dataset({\n",
       "        features: ['messages'],\n",
       "        num_rows: 96356\n",
       "    })\n",
       "    test: Dataset({\n",
       "        features: ['messages'],\n",
       "        num_rows: 5072\n",
       "    })\n",
       "})"
      ]
     },
     "execution_count": 6,
     "metadata": {},
     "output_type": "execute_result"
    }
   ],
   "source": [
    "# load dataset\n",
    "\n",
    "ds = load_dataset(dataset_name, config_name, cache_dir=dataset_cache_dir)\n",
    "ds"
   ]
  },
  {
   "cell_type": "code",
   "execution_count": 7,
   "id": "8dc434d5-6081-461e-8a23-00da85d7b998",
   "metadata": {
    "execution": {
     "iopub.execute_input": "2025-08-01T07:08:13.378835Z",
     "iopub.status.busy": "2025-08-01T07:08:13.378656Z",
     "iopub.status.idle": "2025-08-01T07:08:13.382860Z",
     "shell.execute_reply": "2025-08-01T07:08:13.382390Z",
     "shell.execute_reply.started": "2025-08-01T07:08:13.378820Z"
    }
   },
   "outputs": [
    {
     "data": {
      "text/plain": [
       "{'messages': [{'content': 'Provide a concise, objective summary of the input text in up to three sentences, focusing on key actions and intentions without using second or third person pronouns.',\n",
       "   'role': 'system'},\n",
       "  {'content': \"By . Jill Reilly . PUBLISHED: . 04:02 EST, 29 April 2013 . | . UPDATED: . 09:59 EST, 29 April 2013 . A powerful explosion has damaged a building in the centre of the Czech capital, Prague, injuring up to 40 people. Authorities say they believe some people are buried in the rubble. Police spokesman Tomas Hulan says it is not certain what caused the blast in Divadelni Street, but it was likely a natural gas explosion . The street was covered with rubble and has been sealed off by police who have also evacuated people from nearby buildings and closed a wide area around the explosion site. Injured: A powerful explosion has damaged a building in the centre of the Czech capital Prague with people feared buried in the rubble . Cause: Police said it is not immediately clear what caused the blast in Divadelni Street this morning, but it was probably a gas explosion . Investigation: The street is covered with rubble and has been sealed off by police . Zdenek Schwarz, head of the rescue service in Prague, says up to 40 people have been injured. Windows in buildings located hundreds of metres from the blast were shattered, including some in the nearby National Theatre. The explosion was heard as far as Prague Castle about a . mile (1.6 km) across the Vltava river. A . police spokesman said that there had been about 15 people in the . building, which included an office of the International Air Transport . Association (IATA) and an art gallery. Firefighters spokeswoman Pavlina Adamcova said rescuers were still searching the rubble, using sniffer dogs. Rescue service spokeswoman Jirina Ernestova said there were foreigners among the injured but had no further details immediately. Some of the injured were taken to Prague's hospitals for treatment while others, many of whom were hit by flying glass, were treated by rescuers at the scene. Hurt: An injured man removes his shirt before receiving medical treatment . Injured women are helped away from the scene of the blast in the Czech capital, Prague . Damage: Windows in buildings located hundreds of metres from the blast were shattered, including some in the nearby National Theatre . Tourists at the famed Charles Bridge also felt the blast. 'There was glass everywhere and people shouting and crying,' Vaclav Rokyta, a Czech student said near the scene. 'I was in the bathroom, no windows, . the door was closed. Honestly, if I had been in my bed I would have been . covered in glass,' said Z.B. Haislip, a student from Raleigh, North . Carolina, who was in a nearby building. The Faculty of Social Sciences of Prague's Charles University and the Film and TV School of the Academy of Sciences of Performing Arts are located next to the damaged building. Prime Minister Petr Necas said in a statement he was 'deeply hit by the tragedy of the gas explosion. The road closures caused major traffic disruption and confused thousands of tourists. Some new arrivals to the city had to stand on street corners, unable to reach their hotels, their baggage loaded onto trolleys. Hotel staff urged them to be patient. Evacuate: Injured people leave the scene of the explosion . Statement: Prime Minister Petr Necas said in a statement he was 'deeply hit by the tragedy of the gas explosion' Explosion: Injured people sit on a sidewalk after a explosion downtown Prague this morning .\",\n",
       "   'role': 'user'},\n",
       "  {'content': 'A powerful explosion in the center of Prague, Czech Republic, has damaged a building and injured up to 40 people, with some feared buried in the rubble. The blast occurred in Divadelni Street, and authorities suspect it was caused by a natural gas explosion. Police have sealed off the area and evacuated nearby buildings, while firefighters and rescue teams are searching the debris with sniffer dogs. The explosion shattered windows in buildings hundreds of meters away, including the National Theatre, and was heard as far as Prague Castle. Among the injured are foreigners, and some were treated at the scene while others were taken to hospitals. The affected building housed an office of the International Air Transport Association (IATA) and an art gallery. Prime Minister Petr Necas expressed his concern over the tragedy, and the road closures have caused significant traffic disruption and confusion for tourists.',\n",
       "   'role': 'assistant'}]}"
      ]
     },
     "execution_count": 7,
     "metadata": {},
     "output_type": "execute_result"
    }
   ],
   "source": [
    "ds['train'][300]"
   ]
  },
  {
   "cell_type": "code",
   "execution_count": null,
   "id": "7b1a73a2-7607-48ab-b7e3-519ea69161ea",
   "metadata": {},
   "outputs": [],
   "source": []
  },
  {
   "cell_type": "markdown",
   "id": "6a495901-1a5f-48fe-aa7c-361697674280",
   "metadata": {},
   "source": [
    "## QLorA"
   ]
  },
  {
   "cell_type": "markdown",
   "id": "7004f442-8d67-4854-85bc-e1cc9caaf4dd",
   "metadata": {},
   "source": [
    "Let's try first to with a first configuration and 10k sample dataset and see how long it takes and how results behave"
   ]
  },
  {
   "cell_type": "code",
   "execution_count": 8,
   "id": "79c82d25-2b86-4c93-888b-11b1a1d02238",
   "metadata": {
    "execution": {
     "iopub.execute_input": "2025-08-01T07:08:13.383620Z",
     "iopub.status.busy": "2025-08-01T07:08:13.383314Z",
     "iopub.status.idle": "2025-08-01T07:08:13.387223Z",
     "shell.execute_reply": "2025-08-01T07:08:13.386703Z",
     "shell.execute_reply.started": "2025-08-01T07:08:13.383603Z"
    }
   },
   "outputs": [],
   "source": [
    "# r: rank dimension for LoRA update matrices (smaller = more compression)\n",
    "\n",
    "rank_dimension = 6\n",
    "\n",
    "# lora_alpha: scaling factor for LoRA layers (higher = stronger adaptation)\n",
    "\n",
    "lora_alpha = 10\n",
    "\n",
    "# lora_dropout: dropout probability for LoRA layers (helps prevent overfitting)\n",
    "\n",
    "lora_dropout = 0.05\n",
    "\n",
    "peft_config = LoraConfig(\n",
    "    r=rank_dimension,  # Rank dimension - typically between 4-32\n",
    "    lora_alpha=lora_alpha,  # LoRA scaling factor - typically 2x rank\n",
    "    lora_dropout=lora_dropout,  # Dropout probability for LoRA layers\n",
    "    bias=\"none\",  # Bias type for LoRA. the corresponding biases will be updated during training.\n",
    "    target_modules=\"all-linear\",  # Which modules to apply LoRA to\n",
    "    task_type=\"CAUSAL_LM\",  # Task type for model architecture\n",
    ")"
   ]
  },
  {
   "cell_type": "code",
   "execution_count": 9,
   "id": "7c0fc26d-3296-4211-9277-5f87f8afcb21",
   "metadata": {
    "execution": {
     "iopub.execute_input": "2025-08-01T07:08:13.387987Z",
     "iopub.status.busy": "2025-08-01T07:08:13.387821Z",
     "iopub.status.idle": "2025-08-01T07:08:13.796263Z",
     "shell.execute_reply": "2025-08-01T07:08:13.795734Z",
     "shell.execute_reply.started": "2025-08-01T07:08:13.387973Z"
    }
   },
   "outputs": [
    {
     "name": "stderr",
     "output_type": "stream",
     "text": [
      "No label_names provided for model class `PeftModelForCausalLM`. Since `PeftModel` hides base models input arguments, if label_names is not given, label_names can't be set automatically within `Trainer`. Note that empty label_names list will be used instead.\n"
     ]
    }
   ],
   "source": [
    "# Training configuration\n",
    "\n",
    "# Hyperparameters based on QLoRA paper recommendations\n",
    "\n",
    "sft_config = SFTConfig(\n",
    "    # Output settings\n",
    "    output_dir=output_dir,  # Directory to save model checkpoints\n",
    "    # Training duration\n",
    "    num_train_epochs=1,  # Number of training epochs\n",
    "    # Batch size settings\n",
    "    per_device_train_batch_size=2,  # Batch size per GPU\n",
    "    gradient_accumulation_steps=2,  # Accumulate gradients for larger effective batch\n",
    "    # Memory optimization\n",
    "    gradient_checkpointing=True,  # Trade compute for memory savings\n",
    "    # Optimizer settings\n",
    "    optim=\"adamw_torch_fused\",  # Use fused AdamW for efficiency\n",
    "    learning_rate=2e-4,  # Learning rate (QLoRA paper)\n",
    "    max_grad_norm=0.3,  # Gradient clipping threshold\n",
    "    # Learning rate schedule\n",
    "    warmup_ratio=0.03,  # Portion of steps for warmup\n",
    "    lr_scheduler_type=\"constant\",  # Keep learning rate constant after warmup\n",
    "    # Logging and saving\n",
    "    logging_steps=50,  # Log metrics every N steps\n",
    "    save_strategy=\"epoch\",  # Save checkpoint every epoch\n",
    "    # Precision settings\n",
    "    bf16=True,  # Use bfloat16 precision\n",
    "    # Integration settings\n",
    "    #push_to_hub=True,  # Don't push to HuggingFace Hub\n",
    "    report_to=\"none\",  # Disable external logging\n",
    ")\n",
    "\n",
    "# Create SFTTrainer with LoRA configuration\n",
    "\n",
    "trainer = SFTTrainer(\n",
    "    model=model,\n",
    "    args=sft_config,\n",
    "    train_dataset=ds[\"train\"].select(range(10000)),\n",
    "    peft_config=peft_config,  # LoRA configuration\n",
    "    processing_class=tokenizer,\n",
    ")"
   ]
  },
  {
   "cell_type": "code",
   "execution_count": 10,
   "id": "c47ce6f3-6439-4fd9-a8f4-d6e998e4b26c",
   "metadata": {
    "execution": {
     "iopub.execute_input": "2025-08-01T07:08:13.797589Z",
     "iopub.status.busy": "2025-08-01T07:08:13.797382Z",
     "iopub.status.idle": "2025-08-01T07:36:31.573664Z",
     "shell.execute_reply": "2025-08-01T07:36:31.573101Z",
     "shell.execute_reply.started": "2025-08-01T07:08:13.797573Z"
    },
    "scrolled": true
   },
   "outputs": [
    {
     "name": "stderr",
     "output_type": "stream",
     "text": [
      "`use_cache=True` is incompatible with gradient checkpointing. Setting `use_cache=False`.\n"
     ]
    },
    {
     "data": {
      "text/html": [
       "\n",
       "    <div>\n",
       "      \n",
       "      <progress value='2500' max='2500' style='width:300px; height:20px; vertical-align: middle;'></progress>\n",
       "      [2500/2500 28:14, Epoch 1/1]\n",
       "    </div>\n",
       "    <table border=\"1\" class=\"dataframe\">\n",
       "  <thead>\n",
       " <tr style=\"text-align: left;\">\n",
       "      <th>Step</th>\n",
       "      <th>Training Loss</th>\n",
       "    </tr>\n",
       "  </thead>\n",
       "  <tbody>\n",
       "    <tr>\n",
       "      <td>50</td>\n",
       "      <td>2.454100</td>\n",
       "    </tr>\n",
       "    <tr>\n",
       "      <td>100</td>\n",
       "      <td>1.929700</td>\n",
       "    </tr>\n",
       "    <tr>\n",
       "      <td>150</td>\n",
       "      <td>1.770300</td>\n",
       "    </tr>\n",
       "    <tr>\n",
       "      <td>200</td>\n",
       "      <td>1.771000</td>\n",
       "    </tr>\n",
       "    <tr>\n",
       "      <td>250</td>\n",
       "      <td>1.705200</td>\n",
       "    </tr>\n",
       "    <tr>\n",
       "      <td>300</td>\n",
       "      <td>1.791700</td>\n",
       "    </tr>\n",
       "    <tr>\n",
       "      <td>350</td>\n",
       "      <td>1.735900</td>\n",
       "    </tr>\n",
       "    <tr>\n",
       "      <td>400</td>\n",
       "      <td>1.710100</td>\n",
       "    </tr>\n",
       "    <tr>\n",
       "      <td>450</td>\n",
       "      <td>1.763100</td>\n",
       "    </tr>\n",
       "    <tr>\n",
       "      <td>500</td>\n",
       "      <td>1.718000</td>\n",
       "    </tr>\n",
       "    <tr>\n",
       "      <td>550</td>\n",
       "      <td>1.732800</td>\n",
       "    </tr>\n",
       "    <tr>\n",
       "      <td>600</td>\n",
       "      <td>1.815800</td>\n",
       "    </tr>\n",
       "    <tr>\n",
       "      <td>650</td>\n",
       "      <td>1.770900</td>\n",
       "    </tr>\n",
       "    <tr>\n",
       "      <td>700</td>\n",
       "      <td>1.697200</td>\n",
       "    </tr>\n",
       "    <tr>\n",
       "      <td>750</td>\n",
       "      <td>1.633500</td>\n",
       "    </tr>\n",
       "    <tr>\n",
       "      <td>800</td>\n",
       "      <td>1.679400</td>\n",
       "    </tr>\n",
       "    <tr>\n",
       "      <td>850</td>\n",
       "      <td>1.623200</td>\n",
       "    </tr>\n",
       "    <tr>\n",
       "      <td>900</td>\n",
       "      <td>1.720300</td>\n",
       "    </tr>\n",
       "    <tr>\n",
       "      <td>950</td>\n",
       "      <td>1.720000</td>\n",
       "    </tr>\n",
       "    <tr>\n",
       "      <td>1000</td>\n",
       "      <td>1.678500</td>\n",
       "    </tr>\n",
       "    <tr>\n",
       "      <td>1050</td>\n",
       "      <td>1.681900</td>\n",
       "    </tr>\n",
       "    <tr>\n",
       "      <td>1100</td>\n",
       "      <td>1.713200</td>\n",
       "    </tr>\n",
       "    <tr>\n",
       "      <td>1150</td>\n",
       "      <td>1.796900</td>\n",
       "    </tr>\n",
       "    <tr>\n",
       "      <td>1200</td>\n",
       "      <td>1.721200</td>\n",
       "    </tr>\n",
       "    <tr>\n",
       "      <td>1250</td>\n",
       "      <td>1.655200</td>\n",
       "    </tr>\n",
       "    <tr>\n",
       "      <td>1300</td>\n",
       "      <td>1.751500</td>\n",
       "    </tr>\n",
       "    <tr>\n",
       "      <td>1350</td>\n",
       "      <td>1.595100</td>\n",
       "    </tr>\n",
       "    <tr>\n",
       "      <td>1400</td>\n",
       "      <td>1.592500</td>\n",
       "    </tr>\n",
       "    <tr>\n",
       "      <td>1450</td>\n",
       "      <td>1.645100</td>\n",
       "    </tr>\n",
       "    <tr>\n",
       "      <td>1500</td>\n",
       "      <td>1.685400</td>\n",
       "    </tr>\n",
       "    <tr>\n",
       "      <td>1550</td>\n",
       "      <td>1.684500</td>\n",
       "    </tr>\n",
       "    <tr>\n",
       "      <td>1600</td>\n",
       "      <td>1.653000</td>\n",
       "    </tr>\n",
       "    <tr>\n",
       "      <td>1650</td>\n",
       "      <td>1.691100</td>\n",
       "    </tr>\n",
       "    <tr>\n",
       "      <td>1700</td>\n",
       "      <td>1.697600</td>\n",
       "    </tr>\n",
       "    <tr>\n",
       "      <td>1750</td>\n",
       "      <td>1.668000</td>\n",
       "    </tr>\n",
       "    <tr>\n",
       "      <td>1800</td>\n",
       "      <td>1.583000</td>\n",
       "    </tr>\n",
       "    <tr>\n",
       "      <td>1850</td>\n",
       "      <td>1.735000</td>\n",
       "    </tr>\n",
       "    <tr>\n",
       "      <td>1900</td>\n",
       "      <td>1.673800</td>\n",
       "    </tr>\n",
       "    <tr>\n",
       "      <td>1950</td>\n",
       "      <td>1.723100</td>\n",
       "    </tr>\n",
       "    <tr>\n",
       "      <td>2000</td>\n",
       "      <td>1.638200</td>\n",
       "    </tr>\n",
       "    <tr>\n",
       "      <td>2050</td>\n",
       "      <td>1.735300</td>\n",
       "    </tr>\n",
       "    <tr>\n",
       "      <td>2100</td>\n",
       "      <td>1.684800</td>\n",
       "    </tr>\n",
       "    <tr>\n",
       "      <td>2150</td>\n",
       "      <td>1.703800</td>\n",
       "    </tr>\n",
       "    <tr>\n",
       "      <td>2200</td>\n",
       "      <td>1.712500</td>\n",
       "    </tr>\n",
       "    <tr>\n",
       "      <td>2250</td>\n",
       "      <td>1.647500</td>\n",
       "    </tr>\n",
       "    <tr>\n",
       "      <td>2300</td>\n",
       "      <td>1.762500</td>\n",
       "    </tr>\n",
       "    <tr>\n",
       "      <td>2350</td>\n",
       "      <td>1.700500</td>\n",
       "    </tr>\n",
       "    <tr>\n",
       "      <td>2400</td>\n",
       "      <td>1.624100</td>\n",
       "    </tr>\n",
       "    <tr>\n",
       "      <td>2450</td>\n",
       "      <td>1.615000</td>\n",
       "    </tr>\n",
       "    <tr>\n",
       "      <td>2500</td>\n",
       "      <td>1.663100</td>\n",
       "    </tr>\n",
       "  </tbody>\n",
       "</table><p>"
      ],
      "text/plain": [
       "<IPython.core.display.HTML object>"
      ]
     },
     "metadata": {},
     "output_type": "display_data"
    }
   ],
   "source": [
    "# very long to run but very little usage of GPU (2.4GB)\n",
    "\n",
    "trainer.train()\n",
    "\n",
    "# save model\n",
    "\n",
    "trainer.save_model(output_dir)"
   ]
  },
  {
   "cell_type": "code",
   "execution_count": 11,
   "id": "ba23711e-f12c-441b-a35a-4643f08ff1bf",
   "metadata": {
    "execution": {
     "iopub.execute_input": "2025-08-01T07:36:32.774296Z",
     "iopub.status.busy": "2025-08-01T07:36:32.774140Z",
     "iopub.status.idle": "2025-08-01T07:36:34.590051Z",
     "shell.execute_reply": "2025-08-01T07:36:34.589490Z",
     "shell.execute_reply.started": "2025-08-01T07:36:32.774281Z"
    }
   },
   "outputs": [
    {
     "name": "stdout",
     "output_type": "stream",
     "text": [
      "----------------------------------------------------------------\n",
      "        Layer (type)               Output Shape         Param #\n",
      "================================================================\n",
      "            Conv2d-1         [-1, 64, 224, 224]           1,792\n",
      "              ReLU-2         [-1, 64, 224, 224]               0\n",
      "            Conv2d-3         [-1, 64, 224, 224]          36,928\n",
      "              ReLU-4         [-1, 64, 224, 224]               0\n",
      "         MaxPool2d-5         [-1, 64, 112, 112]               0\n",
      "            Conv2d-6        [-1, 128, 112, 112]          73,856\n",
      "              ReLU-7        [-1, 128, 112, 112]               0\n",
      "            Conv2d-8        [-1, 128, 112, 112]         147,584\n",
      "              ReLU-9        [-1, 128, 112, 112]               0\n",
      "        MaxPool2d-10          [-1, 128, 56, 56]               0\n",
      "           Conv2d-11          [-1, 256, 56, 56]         295,168\n",
      "             ReLU-12          [-1, 256, 56, 56]               0\n",
      "           Conv2d-13          [-1, 256, 56, 56]         590,080\n",
      "             ReLU-14          [-1, 256, 56, 56]               0\n",
      "           Conv2d-15          [-1, 256, 56, 56]         590,080\n",
      "             ReLU-16          [-1, 256, 56, 56]               0\n",
      "        MaxPool2d-17          [-1, 256, 28, 28]               0\n",
      "           Conv2d-18          [-1, 512, 28, 28]       1,180,160\n",
      "             ReLU-19          [-1, 512, 28, 28]               0\n",
      "           Conv2d-20          [-1, 512, 28, 28]       2,359,808\n",
      "             ReLU-21          [-1, 512, 28, 28]               0\n",
      "           Conv2d-22          [-1, 512, 28, 28]       2,359,808\n",
      "             ReLU-23          [-1, 512, 28, 28]               0\n",
      "        MaxPool2d-24          [-1, 512, 14, 14]               0\n",
      "           Conv2d-25          [-1, 512, 14, 14]       2,359,808\n",
      "             ReLU-26          [-1, 512, 14, 14]               0\n",
      "           Conv2d-27          [-1, 512, 14, 14]       2,359,808\n",
      "             ReLU-28          [-1, 512, 14, 14]               0\n",
      "           Conv2d-29          [-1, 512, 14, 14]       2,359,808\n",
      "             ReLU-30          [-1, 512, 14, 14]               0\n",
      "        MaxPool2d-31            [-1, 512, 7, 7]               0\n",
      "AdaptiveAvgPool2d-32            [-1, 512, 7, 7]               0\n",
      "           Linear-33                 [-1, 4096]     102,764,544\n",
      "             ReLU-34                 [-1, 4096]               0\n",
      "          Dropout-35                 [-1, 4096]               0\n",
      "           Linear-36                 [-1, 4096]      16,781,312\n",
      "             ReLU-37                 [-1, 4096]               0\n",
      "          Dropout-38                 [-1, 4096]               0\n",
      "           Linear-39                 [-1, 1000]       4,097,000\n",
      "================================================================\n",
      "Total params: 138,357,544\n",
      "Trainable params: 138,357,544\n",
      "Non-trainable params: 0\n",
      "----------------------------------------------------------------\n",
      "Input size (MB): 0.57\n",
      "Forward/backward pass size (MB): 218.78\n",
      "Params size (MB): 527.79\n",
      "Estimated Total Size (MB): 747.15\n",
      "----------------------------------------------------------------\n"
     ]
    }
   ],
   "source": [
    "from torchvision import models\n",
    "from torchsummary import summary\n",
    "\n",
    "device = torch.device('cuda' if torch.cuda.is_available() else 'cpu')\n",
    "vgg = models.vgg16().to(device)\n",
    "\n",
    "summary(vgg, (3, 224, 224))"
   ]
  },
  {
   "cell_type": "code",
   "execution_count": 13,
   "id": "a9c5b1ec-e489-401c-9265-8038b756344c",
   "metadata": {
    "execution": {
     "iopub.execute_input": "2025-08-01T08:22:19.912855Z",
     "iopub.status.busy": "2025-08-01T08:22:19.912515Z",
     "iopub.status.idle": "2025-08-01T08:22:19.916505Z",
     "shell.execute_reply": "2025-08-01T08:22:19.916026Z",
     "shell.execute_reply.started": "2025-08-01T08:22:19.912838Z"
    }
   },
   "outputs": [
    {
     "name": "stdout",
     "output_type": "stream",
     "text": [
      "LlamaConfig {\n",
      "  \"architectures\": [\n",
      "    \"LlamaForCausalLM\"\n",
      "  ],\n",
      "  \"attention_bias\": false,\n",
      "  \"attention_dropout\": 0.0,\n",
      "  \"bos_token_id\": 1,\n",
      "  \"eos_token_id\": 2,\n",
      "  \"head_dim\": 64,\n",
      "  \"hidden_act\": \"silu\",\n",
      "  \"hidden_size\": 960,\n",
      "  \"initializer_range\": 0.02,\n",
      "  \"intermediate_size\": 2560,\n",
      "  \"is_llama_config\": true,\n",
      "  \"max_position_embeddings\": 8192,\n",
      "  \"mlp_bias\": false,\n",
      "  \"model_type\": \"llama\",\n",
      "  \"num_attention_heads\": 15,\n",
      "  \"num_hidden_layers\": 32,\n",
      "  \"num_key_value_heads\": 5,\n",
      "  \"pad_token_id\": 2,\n",
      "  \"pretraining_tp\": 1,\n",
      "  \"rms_norm_eps\": 1e-05,\n",
      "  \"rope_interleaved\": false,\n",
      "  \"rope_scaling\": null,\n",
      "  \"rope_theta\": 100000,\n",
      "  \"tie_word_embeddings\": true,\n",
      "  \"torch_dtype\": \"float32\",\n",
      "  \"transformers_version\": \"4.54.1\",\n",
      "  \"use_cache\": true,\n",
      "  \"vocab_size\": 49152\n",
      "}\n",
      "\n"
     ]
    }
   ],
   "source": [
    "print(model.config)"
   ]
  },
  {
   "cell_type": "code",
   "execution_count": null,
   "id": "140e3d1a-c32b-480f-a0fd-feb7de5ef8e4",
   "metadata": {},
   "outputs": [],
   "source": []
  },
  {
   "cell_type": "code",
   "execution_count": 16,
   "id": "b709ce7a-f311-41d1-ac72-a0666a5a40f0",
   "metadata": {
    "execution": {
     "iopub.execute_input": "2025-08-01T08:24:37.790224Z",
     "iopub.status.busy": "2025-08-01T08:24:37.789828Z",
     "iopub.status.idle": "2025-08-01T08:24:59.202278Z",
     "shell.execute_reply": "2025-08-01T08:24:59.201692Z",
     "shell.execute_reply.started": "2025-08-01T08:24:37.790207Z"
    }
   },
   "outputs": [],
   "source": [
    "# Load PEFT model on CPU\n",
    "model = AutoPeftModelForCausalLM.from_pretrained(\n",
    "    pretrained_model_name_or_path=sft_config.output_dir,\n",
    "    #torch_dtype=torch.float16,\n",
    "    #low_cpu_mem_usage=True,\n",
    ")\n",
    "\n",
    "# Merge LoRA and base model and save\n",
    "merged_model = model.merge_and_unload()\n",
    "merged_model.save_pretrained(\n",
    "    sft_config.output_dir, safe_serialization=True, \n",
    "    max_shard_size=\"2GB\"\n",
    ")"
   ]
  },
  {
   "cell_type": "code",
   "execution_count": 17,
   "id": "c77f118a-9f09-4823-a9e6-b6b0e81e9615",
   "metadata": {
    "execution": {
     "iopub.execute_input": "2025-08-01T08:26:20.737143Z",
     "iopub.status.busy": "2025-08-01T08:26:20.736802Z",
     "iopub.status.idle": "2025-08-01T08:26:20.740359Z",
     "shell.execute_reply": "2025-08-01T08:26:20.739879Z",
     "shell.execute_reply.started": "2025-08-01T08:26:20.737127Z"
    }
   },
   "outputs": [],
   "source": [
    "\n",
    "def generate_summary(dataset, n, system_prompt, sample_type='test'):\n",
    "\n",
    "    pipe = pipeline(\"text-generation\", model=model, tokenizer=tokenizer)\n",
    "    messages = [{\"role\": \"system\", \"content\": system_prompt_summarize}, {\"role\": \"user\", \"content\": dataset[sample_type][n]['messages'][1].get('content')}]\n",
    "    return json.dumps(pipe(messages), indent=4)"
   ]
  },
  {
   "cell_type": "code",
   "execution_count": 18,
   "id": "4aeb135c-3580-482f-9933-07606eb91ddf",
   "metadata": {
    "execution": {
     "iopub.execute_input": "2025-08-01T08:26:55.594860Z",
     "iopub.status.busy": "2025-08-01T08:26:55.594605Z",
     "iopub.status.idle": "2025-08-01T08:26:57.195424Z",
     "shell.execute_reply": "2025-08-01T08:26:57.194869Z",
     "shell.execute_reply.started": "2025-08-01T08:26:55.594843Z"
    }
   },
   "outputs": [],
   "source": [
    "# Load Model with PEFT adapter\n",
    "tokenizer = AutoTokenizer.from_pretrained(sft_config.output_dir)\n",
    "model = AutoPeftModelForCausalLM.from_pretrained(\n",
    "    sft_config.output_dir, \n",
    "    #device_map='auto', \n",
    "    #torch_dtype=torch.float16\n",
    ")"
   ]
  },
  {
   "cell_type": "code",
   "execution_count": 19,
   "id": "3ec00dc1-efa0-4647-9eb0-f39d43376313",
   "metadata": {
    "execution": {
     "iopub.execute_input": "2025-08-01T08:27:03.747408Z",
     "iopub.status.busy": "2025-08-01T08:27:03.746897Z",
     "iopub.status.idle": "2025-08-01T08:27:30.622059Z",
     "shell.execute_reply": "2025-08-01T08:27:30.621547Z",
     "shell.execute_reply.started": "2025-08-01T08:27:03.747389Z"
    }
   },
   "outputs": [
    {
     "name": "stderr",
     "output_type": "stream",
     "text": [
      "Device set to use cuda:0\n",
      "Device set to use cuda:0\n"
     ]
    },
    {
     "name": "stdout",
     "output_type": "stream",
     "text": [
      "[\n",
      "    {\n",
      "        \"generated_text\": [\n",
      "            {\n",
      "                \"role\": \"system\",\n",
      "                \"content\": \"Provide a concise, objective summary of the input text in up to three sentences, focusing on key actions and intentions without using second or third person pronouns.\"\n",
      "            },\n",
      "            {\n",
      "                \"role\": \"user\",\n",
      "                \"content\": \"While suspended star striker Wayne Rooney was recovering from a hair transplant, England's hopes of automatic qualification for Euro 2012 suffered a blow on Saturday as Switzerland claimed at 2-2 draw at London's Wembley Stadium. The balding Manchester United player, who was booked in March's win over Wales to trigger the ban, revealed on Twitter before kickoff that he had used his time off to visit a hair specialist. \\\"Just to confirm to all my followers I have had a hair transplant. I was going bald at 25, why not. I'm delighted with the result,\\\" he wrote on the social networking website. \\\"It's still a bit bruised and swollen when it dies down u will be first to see it. Anyone recommend any good hair gel. Haha.\\\" France held by Belarus in Euro 2012 qualifier . It was more serious for Fabio Capello's team, who had to come from two goals down after goalkeeper Joe Hart was badly caught out by two free-kicks from Tranquillo Barnetta just after half an hour. Frank Lampard reduced the deficit with a penalty before halftime and his replacement Ashley Young leveled soon after coming on at the interval. The result meant Montenegro joined England on 11 points at the top of Group G after five games after also being held at home, 1-1 by Bulgaria. Bulgaria and the Swiss have little chance of earning second place and a berth in the playoffs, with both nations having five points with three matches left. England next travel to Bulgaria on September 2, when Montenegro visit pointless bottom nation Wales. Hart looked on in bemusement as Barnetta's curling set-piece drifted past his defenders and into the far corner in the 32nd minute, and he was caught out at the near post by the same player from wide out on the left soon after. However, Lampard made it 2-1 in the 36th minute when Jack Wilshere was fouled in the box by his Arsenal teammate Johan Djourou, and Young leveled six minutes after his halftime introduction after being set up by fellow substitute Leighton Baines. Striker Darren Bent blazed over the bar when he should have hit the target for England with 20 minutes left, and both teams went close in the closing stages. England manager Capello said his players were tired after a long season. \\\"You can see the Switzerland players were fresher. They have had a different season,\\\" the Italian said. \\\"We had three clear chances to score goals but at the end of the game, in the last 10 minutes, some players were without energy.\\\" Slovakia, Russia and the Republic of Ireland are tied on 13 points at the top of Group B after all three won on Saturday. Slovakia edged a 1-0 win at home to bottom nation as striker Robert Vittek scored the only goal in the 63rd minute. Russia triumphed 3-1 at home to Armenia thanks to a hat-trick from striker Roman Pavlyuchenko, while the Irish defeated Macedonia 2-0 away as skipper Robbie Keane netted both goals to pass a half-century in internationals. Greece returned to the top of Group F with a 3-1 victory over Malta, with two goals from young attacking talent Giannis Fetfatzidis and another by teenage debutant Kyriakos Papadopoulos. That moved the Greeks a point above Croatia, who were joined on 12 by Israel following that nation's 2-1 win in Latvia. Midfielder Yossi Benayoun and Tal Ben Haim, with a penalty, scored in the first half to keep Israel's qualification bid alive. Group H also has a three-way tie at the top with Portugal, Denmark and Norway battling for automatic qualification. Portugal beat Norway 1-0 at home as striker Helder Postiga scored the only goal eight minutes after halftime. Denmark joined them on 10 points, winning 2-0 in Iceland thanks to second-half goals from Lasse Schone and Christian Eriksen. In a friendly international, five-time World Cup winners Brazil drew 0-0 with three-time runners-up the Netherlands. The home team had midfielder Ramires sent off in the 79th minute for his second booking. Current world champions Spain crushed the United States 4-0 in Massacheusetts as Santi Cazorla scored twice, with the other goals coming from fellow striker Alvaro Negredo and his halftime replacement Fernando Torres. The U.S. upset Spain in the semifinals 2009 Confederations Cup, but this time conceded three goals in 13 minutes from just before the half-hour mark. Spain visited in a warm-up match for the Americans ahead of the CONCACAF Gold Cup tournament which the U.S. is hosting this month.\"\n",
      "            },\n",
      "            {\n",
      "                \"role\": \"assistant\",\n",
      "                \"content\": \"England's hopes of automatic qualification for Euro 2012 were put on hold after Switzerland claimed a 2-2 draw at Wembley Stadium on Saturday, with Wayne Rooney suspended for a hair transplant. Wayne Rooney, who was booked in March's win over Wales to trigger the ban, revealed he had used his time off to visit a hair specialist in Switzerland. The 25-year-old Londoner also mentioned he would visit a hair specialist in Switzerland to recover from the procedure. France, having won 2-0 in the 2-0 draw against Montenegro, was next to arrive in Group G, with Montenegro joining 11 points behind. Montenegro, at the top of Group G with a 3-1 win over Albania, had three clear chances to score goals, but the Swiss failed to capitalize on the opportunities, with referee Michel Vidal deciding to cancel the penalty awarded to Switzerland's goalkeeper Joey Hart due to a free-kick from coach Joe Hart. Belgium, the only remaining nation in Group G with 13 points, achieved its goal by defeating Macedonia 2-0 in a friendly international. Slovakia defeated Russia 3-1 at home to bottom nation Greece. The Czech\"\n",
      "            }\n",
      "        ]\n",
      "    }\n",
      "]\n",
      "\n",
      "\n",
      "[\n",
      "    {\n",
      "        \"generated_text\": [\n",
      "            {\n",
      "                \"role\": \"system\",\n",
      "                \"content\": \"Extract and present the main key point of the input text in one very short sentence, including essential details like dates or locations if necessary.\"\n",
      "            },\n",
      "            {\n",
      "                \"role\": \"user\",\n",
      "                \"content\": \"While suspended star striker Wayne Rooney was recovering from a hair transplant, England's hopes of automatic qualification for Euro 2012 suffered a blow on Saturday as Switzerland claimed at 2-2 draw at London's Wembley Stadium. The balding Manchester United player, who was booked in March's win over Wales to trigger the ban, revealed on Twitter before kickoff that he had used his time off to visit a hair specialist. \\\"Just to confirm to all my followers I have had a hair transplant. I was going bald at 25, why not. I'm delighted with the result,\\\" he wrote on the social networking website. \\\"It's still a bit bruised and swollen when it dies down u will be first to see it. Anyone recommend any good hair gel. Haha.\\\" France held by Belarus in Euro 2012 qualifier . It was more serious for Fabio Capello's team, who had to come from two goals down after goalkeeper Joe Hart was badly caught out by two free-kicks from Tranquillo Barnetta just after half an hour. Frank Lampard reduced the deficit with a penalty before halftime and his replacement Ashley Young leveled soon after coming on at the interval. The result meant Montenegro joined England on 11 points at the top of Group G after five games after also being held at home, 1-1 by Bulgaria. Bulgaria and the Swiss have little chance of earning second place and a berth in the playoffs, with both nations having five points with three matches left. England next travel to Bulgaria on September 2, when Montenegro visit pointless bottom nation Wales. Hart looked on in bemusement as Barnetta's curling set-piece drifted past his defenders and into the far corner in the 32nd minute, and he was caught out at the near post by the same player from wide out on the left soon after. However, Lampard made it 2-1 in the 36th minute when Jack Wilshere was fouled in the box by his Arsenal teammate Johan Djourou, and Young leveled six minutes after his halftime introduction after being set up by fellow substitute Leighton Baines. Striker Darren Bent blazed over the bar when he should have hit the target for England with 20 minutes left, and both teams went close in the closing stages. England manager Capello said his players were tired after a long season. \\\"You can see the Switzerland players were fresher. They have had a different season,\\\" the Italian said. \\\"We had three clear chances to score goals but at the end of the game, in the last 10 minutes, some players were without energy.\\\" Slovakia, Russia and the Republic of Ireland are tied on 13 points at the top of Group B after all three won on Saturday. Slovakia edged a 1-0 win at home to bottom nation as striker Robert Vittek scored the only goal in the 63rd minute. Russia triumphed 3-1 at home to Armenia thanks to a hat-trick from striker Roman Pavlyuchenko, while the Irish defeated Macedonia 2-0 away as skipper Robbie Keane netted both goals to pass a half-century in internationals. Greece returned to the top of Group F with a 3-1 victory over Malta, with two goals from young attacking talent Giannis Fetfatzidis and another by teenage debutant Kyriakos Papadopoulos. That moved the Greeks a point above Croatia, who were joined on 12 by Israel following that nation's 2-1 win in Latvia. Midfielder Yossi Benayoun and Tal Ben Haim, with a penalty, scored in the first half to keep Israel's qualification bid alive. Group H also has a three-way tie at the top with Portugal, Denmark and Norway battling for automatic qualification. Portugal beat Norway 1-0 at home as striker Helder Postiga scored the only goal eight minutes after halftime. Denmark joined them on 10 points, winning 2-0 in Iceland thanks to second-half goals from Lasse Schone and Christian Eriksen. In a friendly international, five-time World Cup winners Brazil drew 0-0 with three-time runners-up the Netherlands. The home team had midfielder Ramires sent off in the 79th minute for his second booking. Current world champions Spain crushed the United States 4-0 in Massacheusetts as Santi Cazorla scored twice, with the other goals coming from fellow striker Alvaro Negredo and his halftime replacement Fernando Torres. The U.S. upset Spain in the semifinals 2009 Confederations Cup, but this time conceded three goals in 13 minutes from just before the half-hour mark. Spain visited in a warm-up match for the Americans ahead of the CONCACAF Gold Cup tournament which the U.S. is hosting this month.\"\n",
      "            },\n",
      "            {\n",
      "                \"role\": \"assistant\",\n",
      "                \"content\": \"Thirteen countries qualified for Euro 2012, with England's hopes of automatic qualification set to decline after England's striker Wayne Rooney suffered a hair transplant to cover his balding head. France held by Belarus in Group G, with Montenegro edging behind in Group B, made it 11 points at the top with three games remaining. England will travel to Bulgaria on September 2, where Montenegro will compete, with Switzerland hosting the match in London. Slovenia, a host nation with 12 points, will face Greece on September 2. Slovakia, Russia, and the Republic of Ireland are tied in Group B with three wins at home, with Greece and Croatia securing qualification with two victories. In Group F, Slovakia and Russia defeated Greece 3-1, while Denmark and Norway won 2-0 in Iceland. The U.S. lost to the Netherlands in the semifinals 2009 Confederations Cup.\\nassistant\\nEngland's hopes of automatic qualification for Euro 2012 were temporarily derailed due to Wayne Rooney's hair transplant, which covered his bald spot. In Group G, England will travel to Bulgaria for the first time since taking the lead in Group G, with\"\n",
      "            }\n",
      "        ]\n",
      "    }\n",
      "]\n"
     ]
    }
   ],
   "source": [
    "n = 3000\n",
    "\n",
    "system_prompt_summarize = \"Provide a concise, objective summary of the input text in up to three sentences, focusing on key actions and intentions without using second or third person pronouns.\"\n",
    "print(generate_summary(ds, n, system_prompt_summarize))\n",
    "print('\\n')\n",
    "system_prompt_summarize = 'Extract and present the main key point of the input text in one very short sentence, including essential details like dates or locations if necessary.'\n",
    "print(generate_summary(ds, n, system_prompt_summarize))"
   ]
  },
  {
   "cell_type": "code",
   "execution_count": 23,
   "id": "65696dae-cf27-4934-bb91-4ea090ad33dc",
   "metadata": {
    "execution": {
     "iopub.execute_input": "2025-08-01T08:28:35.864444Z",
     "iopub.status.busy": "2025-08-01T08:28:35.863968Z",
     "iopub.status.idle": "2025-08-01T08:28:35.879367Z",
     "shell.execute_reply": "2025-08-01T08:28:35.878788Z",
     "shell.execute_reply.started": "2025-08-01T08:28:35.864422Z"
    }
   },
   "outputs": [
    {
     "data": {
      "text/plain": [
       "PeftModelForCausalLM(\n",
       "  (base_model): LoraModel(\n",
       "    (model): LlamaForCausalLM(\n",
       "      (model): LlamaModel(\n",
       "        (embed_tokens): Embedding(49152, 960)\n",
       "        (layers): ModuleList(\n",
       "          (0-31): 32 x LlamaDecoderLayer(\n",
       "            (self_attn): LlamaAttention(\n",
       "              (q_proj): lora.Linear(\n",
       "                (base_layer): Linear(in_features=960, out_features=960, bias=False)\n",
       "                (lora_dropout): ModuleDict(\n",
       "                  (default): Dropout(p=0.05, inplace=False)\n",
       "                )\n",
       "                (lora_A): ModuleDict(\n",
       "                  (default): Linear(in_features=960, out_features=6, bias=False)\n",
       "                )\n",
       "                (lora_B): ModuleDict(\n",
       "                  (default): Linear(in_features=6, out_features=960, bias=False)\n",
       "                )\n",
       "                (lora_embedding_A): ParameterDict()\n",
       "                (lora_embedding_B): ParameterDict()\n",
       "                (lora_magnitude_vector): ModuleDict()\n",
       "              )\n",
       "              (k_proj): lora.Linear(\n",
       "                (base_layer): Linear(in_features=960, out_features=320, bias=False)\n",
       "                (lora_dropout): ModuleDict(\n",
       "                  (default): Dropout(p=0.05, inplace=False)\n",
       "                )\n",
       "                (lora_A): ModuleDict(\n",
       "                  (default): Linear(in_features=960, out_features=6, bias=False)\n",
       "                )\n",
       "                (lora_B): ModuleDict(\n",
       "                  (default): Linear(in_features=6, out_features=320, bias=False)\n",
       "                )\n",
       "                (lora_embedding_A): ParameterDict()\n",
       "                (lora_embedding_B): ParameterDict()\n",
       "                (lora_magnitude_vector): ModuleDict()\n",
       "              )\n",
       "              (v_proj): lora.Linear(\n",
       "                (base_layer): Linear(in_features=960, out_features=320, bias=False)\n",
       "                (lora_dropout): ModuleDict(\n",
       "                  (default): Dropout(p=0.05, inplace=False)\n",
       "                )\n",
       "                (lora_A): ModuleDict(\n",
       "                  (default): Linear(in_features=960, out_features=6, bias=False)\n",
       "                )\n",
       "                (lora_B): ModuleDict(\n",
       "                  (default): Linear(in_features=6, out_features=320, bias=False)\n",
       "                )\n",
       "                (lora_embedding_A): ParameterDict()\n",
       "                (lora_embedding_B): ParameterDict()\n",
       "                (lora_magnitude_vector): ModuleDict()\n",
       "              )\n",
       "              (o_proj): lora.Linear(\n",
       "                (base_layer): Linear(in_features=960, out_features=960, bias=False)\n",
       "                (lora_dropout): ModuleDict(\n",
       "                  (default): Dropout(p=0.05, inplace=False)\n",
       "                )\n",
       "                (lora_A): ModuleDict(\n",
       "                  (default): Linear(in_features=960, out_features=6, bias=False)\n",
       "                )\n",
       "                (lora_B): ModuleDict(\n",
       "                  (default): Linear(in_features=6, out_features=960, bias=False)\n",
       "                )\n",
       "                (lora_embedding_A): ParameterDict()\n",
       "                (lora_embedding_B): ParameterDict()\n",
       "                (lora_magnitude_vector): ModuleDict()\n",
       "              )\n",
       "            )\n",
       "            (mlp): LlamaMLP(\n",
       "              (gate_proj): lora.Linear(\n",
       "                (base_layer): Linear(in_features=960, out_features=2560, bias=False)\n",
       "                (lora_dropout): ModuleDict(\n",
       "                  (default): Dropout(p=0.05, inplace=False)\n",
       "                )\n",
       "                (lora_A): ModuleDict(\n",
       "                  (default): Linear(in_features=960, out_features=6, bias=False)\n",
       "                )\n",
       "                (lora_B): ModuleDict(\n",
       "                  (default): Linear(in_features=6, out_features=2560, bias=False)\n",
       "                )\n",
       "                (lora_embedding_A): ParameterDict()\n",
       "                (lora_embedding_B): ParameterDict()\n",
       "                (lora_magnitude_vector): ModuleDict()\n",
       "              )\n",
       "              (up_proj): lora.Linear(\n",
       "                (base_layer): Linear(in_features=960, out_features=2560, bias=False)\n",
       "                (lora_dropout): ModuleDict(\n",
       "                  (default): Dropout(p=0.05, inplace=False)\n",
       "                )\n",
       "                (lora_A): ModuleDict(\n",
       "                  (default): Linear(in_features=960, out_features=6, bias=False)\n",
       "                )\n",
       "                (lora_B): ModuleDict(\n",
       "                  (default): Linear(in_features=6, out_features=2560, bias=False)\n",
       "                )\n",
       "                (lora_embedding_A): ParameterDict()\n",
       "                (lora_embedding_B): ParameterDict()\n",
       "                (lora_magnitude_vector): ModuleDict()\n",
       "              )\n",
       "              (down_proj): lora.Linear(\n",
       "                (base_layer): Linear(in_features=2560, out_features=960, bias=False)\n",
       "                (lora_dropout): ModuleDict(\n",
       "                  (default): Dropout(p=0.05, inplace=False)\n",
       "                )\n",
       "                (lora_A): ModuleDict(\n",
       "                  (default): Linear(in_features=2560, out_features=6, bias=False)\n",
       "                )\n",
       "                (lora_B): ModuleDict(\n",
       "                  (default): Linear(in_features=6, out_features=960, bias=False)\n",
       "                )\n",
       "                (lora_embedding_A): ParameterDict()\n",
       "                (lora_embedding_B): ParameterDict()\n",
       "                (lora_magnitude_vector): ModuleDict()\n",
       "              )\n",
       "              (act_fn): SiLU()\n",
       "            )\n",
       "            (input_layernorm): LlamaRMSNorm((960,), eps=1e-05)\n",
       "            (post_attention_layernorm): LlamaRMSNorm((960,), eps=1e-05)\n",
       "          )\n",
       "        )\n",
       "        (norm): LlamaRMSNorm((960,), eps=1e-05)\n",
       "        (rotary_emb): LlamaRotaryEmbedding()\n",
       "      )\n",
       "      (lm_head): Linear(in_features=960, out_features=49152, bias=False)\n",
       "    )\n",
       "  )\n",
       ")"
      ]
     },
     "execution_count": 23,
     "metadata": {},
     "output_type": "execute_result"
    }
   ],
   "source": [
    "model"
   ]
  },
  {
   "cell_type": "code",
   "execution_count": null,
   "id": "e9c097bf-b509-43fb-96e9-3dd4893b5f07",
   "metadata": {},
   "outputs": [],
   "source": []
  },
  {
   "cell_type": "markdown",
   "id": "c3a02bcd-5a76-4f45-9d62-b69c5e48ec7d",
   "metadata": {},
   "source": [
    "Great let's see if we can infer on CPU as the goal of QLOrA was to reduce the memory consumption "
   ]
  },
  {
   "cell_type": "code",
   "execution_count": 24,
   "id": "a3a52fbe-dd2d-41f7-a1df-67fe3c5ceafc",
   "metadata": {
    "execution": {
     "iopub.execute_input": "2025-08-01T08:39:12.495289Z",
     "iopub.status.busy": "2025-08-01T08:39:12.494791Z",
     "iopub.status.idle": "2025-08-01T08:39:24.039168Z",
     "shell.execute_reply": "2025-08-01T08:39:24.038631Z",
     "shell.execute_reply.started": "2025-08-01T08:39:12.495272Z"
    }
   },
   "outputs": [],
   "source": [
    "# Load PEFT model on CPU\n",
    "model = AutoPeftModelForCausalLM.from_pretrained(\n",
    "    pretrained_model_name_or_path=sft_config.output_dir,\n",
    "    torch_dtype=torch.float16,\n",
    "    low_cpu_mem_usage=True,\n",
    ")\n",
    "\n",
    "# Merge LoRA and base model and save\n",
    "merged_model = model.merge_and_unload()\n",
    "merged_model.save_pretrained(\n",
    "    sft_config.output_dir, safe_serialization=True, \n",
    "    max_shard_size=\"2GB\"\n",
    ")"
   ]
  },
  {
   "cell_type": "code",
   "execution_count": 28,
   "id": "4cdc4561-2f21-4e5d-812b-1c5865b7f282",
   "metadata": {
    "execution": {
     "iopub.execute_input": "2025-08-01T08:45:38.943122Z",
     "iopub.status.busy": "2025-08-01T08:45:38.942684Z",
     "iopub.status.idle": "2025-08-01T08:45:40.057028Z",
     "shell.execute_reply": "2025-08-01T08:45:40.056505Z",
     "shell.execute_reply.started": "2025-08-01T08:45:38.943101Z"
    }
   },
   "outputs": [],
   "source": [
    "# Load Model with PEFT adapter\n",
    "tokenizer = AutoTokenizer.from_pretrained(sft_config.output_dir)\n",
    "model = AutoPeftModelForCausalLM.from_pretrained(\n",
    "    sft_config.output_dir, device_map='cpu', torch_dtype=torch.float16\n",
    ")"
   ]
  },
  {
   "cell_type": "code",
   "execution_count": 30,
   "id": "02eed58d-f400-49fc-bedb-4a503c1c5c76",
   "metadata": {
    "execution": {
     "iopub.execute_input": "2025-08-01T08:45:54.715347Z",
     "iopub.status.busy": "2025-08-01T08:45:54.714881Z",
     "iopub.status.idle": "2025-08-01T08:45:54.718572Z",
     "shell.execute_reply": "2025-08-01T08:45:54.718068Z",
     "shell.execute_reply.started": "2025-08-01T08:45:54.715329Z"
    }
   },
   "outputs": [],
   "source": [
    "\n",
    "def generate_summary(dataset, n, system_prompt, sample_type='test'):\n",
    "\n",
    "    pipe = pipeline(\"text-generation\", model=model, tokenizer=tokenizer)\n",
    "    messages = [{\"role\": \"system\", \"content\": system_prompt_summarize}, {\"role\": \"user\", \"content\": dataset[sample_type][n]['messages'][1].get('content')}]\n",
    "    return json.dumps(pipe(messages), indent=4)"
   ]
  },
  {
   "cell_type": "code",
   "execution_count": 31,
   "id": "34207a2e-ad45-4238-b100-c34ebc1f6f33",
   "metadata": {
    "execution": {
     "iopub.execute_input": "2025-08-01T08:45:55.624165Z",
     "iopub.status.busy": "2025-08-01T08:45:55.623701Z",
     "iopub.status.idle": "2025-08-01T08:47:37.656159Z",
     "shell.execute_reply": "2025-08-01T08:47:37.655535Z",
     "shell.execute_reply.started": "2025-08-01T08:45:55.624146Z"
    }
   },
   "outputs": [
    {
     "name": "stderr",
     "output_type": "stream",
     "text": [
      "Device set to use cpu\n",
      "Device set to use cpu\n"
     ]
    },
    {
     "name": "stdout",
     "output_type": "stream",
     "text": [
      "[\n",
      "    {\n",
      "        \"generated_text\": [\n",
      "            {\n",
      "                \"role\": \"system\",\n",
      "                \"content\": \"Provide a concise, objective summary of the input text in up to three sentences, focusing on key actions and intentions without using second or third person pronouns.\"\n",
      "            },\n",
      "            {\n",
      "                \"role\": \"user\",\n",
      "                \"content\": \"While suspended star striker Wayne Rooney was recovering from a hair transplant, England's hopes of automatic qualification for Euro 2012 suffered a blow on Saturday as Switzerland claimed at 2-2 draw at London's Wembley Stadium. The balding Manchester United player, who was booked in March's win over Wales to trigger the ban, revealed on Twitter before kickoff that he had used his time off to visit a hair specialist. \\\"Just to confirm to all my followers I have had a hair transplant. I was going bald at 25, why not. I'm delighted with the result,\\\" he wrote on the social networking website. \\\"It's still a bit bruised and swollen when it dies down u will be first to see it. Anyone recommend any good hair gel. Haha.\\\" France held by Belarus in Euro 2012 qualifier . It was more serious for Fabio Capello's team, who had to come from two goals down after goalkeeper Joe Hart was badly caught out by two free-kicks from Tranquillo Barnetta just after half an hour. Frank Lampard reduced the deficit with a penalty before halftime and his replacement Ashley Young leveled soon after coming on at the interval. The result meant Montenegro joined England on 11 points at the top of Group G after five games after also being held at home, 1-1 by Bulgaria. Bulgaria and the Swiss have little chance of earning second place and a berth in the playoffs, with both nations having five points with three matches left. England next travel to Bulgaria on September 2, when Montenegro visit pointless bottom nation Wales. Hart looked on in bemusement as Barnetta's curling set-piece drifted past his defenders and into the far corner in the 32nd minute, and he was caught out at the near post by the same player from wide out on the left soon after. However, Lampard made it 2-1 in the 36th minute when Jack Wilshere was fouled in the box by his Arsenal teammate Johan Djourou, and Young leveled six minutes after his halftime introduction after being set up by fellow substitute Leighton Baines. Striker Darren Bent blazed over the bar when he should have hit the target for England with 20 minutes left, and both teams went close in the closing stages. England manager Capello said his players were tired after a long season. \\\"You can see the Switzerland players were fresher. They have had a different season,\\\" the Italian said. \\\"We had three clear chances to score goals but at the end of the game, in the last 10 minutes, some players were without energy.\\\" Slovakia, Russia and the Republic of Ireland are tied on 13 points at the top of Group B after all three won on Saturday. Slovakia edged a 1-0 win at home to bottom nation as striker Robert Vittek scored the only goal in the 63rd minute. Russia triumphed 3-1 at home to Armenia thanks to a hat-trick from striker Roman Pavlyuchenko, while the Irish defeated Macedonia 2-0 away as skipper Robbie Keane netted both goals to pass a half-century in internationals. Greece returned to the top of Group F with a 3-1 victory over Malta, with two goals from young attacking talent Giannis Fetfatzidis and another by teenage debutant Kyriakos Papadopoulos. That moved the Greeks a point above Croatia, who were joined on 12 by Israel following that nation's 2-1 win in Latvia. Midfielder Yossi Benayoun and Tal Ben Haim, with a penalty, scored in the first half to keep Israel's qualification bid alive. Group H also has a three-way tie at the top with Portugal, Denmark and Norway battling for automatic qualification. Portugal beat Norway 1-0 at home as striker Helder Postiga scored the only goal eight minutes after halftime. Denmark joined them on 10 points, winning 2-0 in Iceland thanks to second-half goals from Lasse Schone and Christian Eriksen. In a friendly international, five-time World Cup winners Brazil drew 0-0 with three-time runners-up the Netherlands. The home team had midfielder Ramires sent off in the 79th minute for his second booking. Current world champions Spain crushed the United States 4-0 in Massacheusetts as Santi Cazorla scored twice, with the other goals coming from fellow striker Alvaro Negredo and his halftime replacement Fernando Torres. The U.S. upset Spain in the semifinals 2009 Confederations Cup, but this time conceded three goals in 13 minutes from just before the half-hour mark. Spain visited in a warm-up match for the Americans ahead of the CONCACAF Gold Cup tournament which the U.S. is hosting this month.\"\n",
      "            },\n",
      "            {\n",
      "                \"role\": \"assistant\",\n",
      "                \"content\": \"England's hopes of automatic qualification for Euro 2012 were significantly hurt by a hair transplant injury to Wayne Rooney, who was suspended for 18 months. Rooney, who was booked for his hair transplant, used his time off to visit a hair specialist, revealing that he had used his time to visit a hair specialist before kickoff. This was in response to a 2012 World Cup-qualifying hair transplant, which was later ruled invalid. The suspension was announced shortly after England failed to qualify for the 2012 World Cup in Brazil, and the team failed to qualify for Group G in the 2012 UEFA Champions League.\\n\\nFrance's 2-2 draw at Wembley Stadium was a significant blow to England's hopes of reaching the conclusion of Group G in the 2012 UEFA Champions League. Montenegro, the first nation to qualify for the 2012 UEFA Champions League, joined England in Group G, where Switzerland defeated Montenegro 2-1. The draw was a tie with Group B, which had Switzerland and Bulgaria winning on Saturday. Both countries won on Sunday, with Switzerland beating Macedonia 3-1 and\"\n",
      "            }\n",
      "        ]\n",
      "    }\n",
      "]\n",
      "\n",
      "\n",
      "[\n",
      "    {\n",
      "        \"generated_text\": [\n",
      "            {\n",
      "                \"role\": \"system\",\n",
      "                \"content\": \"Extract and present the main key point of the input text in one very short sentence, including essential details like dates or locations if necessary.\"\n",
      "            },\n",
      "            {\n",
      "                \"role\": \"user\",\n",
      "                \"content\": \"While suspended star striker Wayne Rooney was recovering from a hair transplant, England's hopes of automatic qualification for Euro 2012 suffered a blow on Saturday as Switzerland claimed at 2-2 draw at London's Wembley Stadium. The balding Manchester United player, who was booked in March's win over Wales to trigger the ban, revealed on Twitter before kickoff that he had used his time off to visit a hair specialist. \\\"Just to confirm to all my followers I have had a hair transplant. I was going bald at 25, why not. I'm delighted with the result,\\\" he wrote on the social networking website. \\\"It's still a bit bruised and swollen when it dies down u will be first to see it. Anyone recommend any good hair gel. Haha.\\\" France held by Belarus in Euro 2012 qualifier . It was more serious for Fabio Capello's team, who had to come from two goals down after goalkeeper Joe Hart was badly caught out by two free-kicks from Tranquillo Barnetta just after half an hour. Frank Lampard reduced the deficit with a penalty before halftime and his replacement Ashley Young leveled soon after coming on at the interval. The result meant Montenegro joined England on 11 points at the top of Group G after five games after also being held at home, 1-1 by Bulgaria. Bulgaria and the Swiss have little chance of earning second place and a berth in the playoffs, with both nations having five points with three matches left. England next travel to Bulgaria on September 2, when Montenegro visit pointless bottom nation Wales. Hart looked on in bemusement as Barnetta's curling set-piece drifted past his defenders and into the far corner in the 32nd minute, and he was caught out at the near post by the same player from wide out on the left soon after. However, Lampard made it 2-1 in the 36th minute when Jack Wilshere was fouled in the box by his Arsenal teammate Johan Djourou, and Young leveled six minutes after his halftime introduction after being set up by fellow substitute Leighton Baines. Striker Darren Bent blazed over the bar when he should have hit the target for England with 20 minutes left, and both teams went close in the closing stages. England manager Capello said his players were tired after a long season. \\\"You can see the Switzerland players were fresher. They have had a different season,\\\" the Italian said. \\\"We had three clear chances to score goals but at the end of the game, in the last 10 minutes, some players were without energy.\\\" Slovakia, Russia and the Republic of Ireland are tied on 13 points at the top of Group B after all three won on Saturday. Slovakia edged a 1-0 win at home to bottom nation as striker Robert Vittek scored the only goal in the 63rd minute. Russia triumphed 3-1 at home to Armenia thanks to a hat-trick from striker Roman Pavlyuchenko, while the Irish defeated Macedonia 2-0 away as skipper Robbie Keane netted both goals to pass a half-century in internationals. Greece returned to the top of Group F with a 3-1 victory over Malta, with two goals from young attacking talent Giannis Fetfatzidis and another by teenage debutant Kyriakos Papadopoulos. That moved the Greeks a point above Croatia, who were joined on 12 by Israel following that nation's 2-1 win in Latvia. Midfielder Yossi Benayoun and Tal Ben Haim, with a penalty, scored in the first half to keep Israel's qualification bid alive. Group H also has a three-way tie at the top with Portugal, Denmark and Norway battling for automatic qualification. Portugal beat Norway 1-0 at home as striker Helder Postiga scored the only goal eight minutes after halftime. Denmark joined them on 10 points, winning 2-0 in Iceland thanks to second-half goals from Lasse Schone and Christian Eriksen. In a friendly international, five-time World Cup winners Brazil drew 0-0 with three-time runners-up the Netherlands. The home team had midfielder Ramires sent off in the 79th minute for his second booking. Current world champions Spain crushed the United States 4-0 in Massacheusetts as Santi Cazorla scored twice, with the other goals coming from fellow striker Alvaro Negredo and his halftime replacement Fernando Torres. The U.S. upset Spain in the semifinals 2009 Confederations Cup, but this time conceded three goals in 13 minutes from just before the half-hour mark. Spain visited in a warm-up match for the Americans ahead of the CONCACAF Gold Cup tournament which the U.S. is hosting this month.\"\n",
      "            },\n",
      "            {\n",
      "                \"role\": \"assistant\",\n",
      "                \"content\": \"Switzerland's Wayne Rooney faced disqualification after undergoing a hair transplant in March, prompting England's hopes of automatic qualification for Euro 2012 to be dashed. The incident revealed Rooney's absence from Manchester United, which is booked for the Saturday match against Switzerland, and the loss of 3-1 to Bulgaria, who were held at home. The Italian manager Capello stressed that England's players were tired after a long season and had received three clear goals from Switzerland, including a hat-trick by the goalkeeper, Robert Vittek. The match was won 3-1 in the closing minutes, with Slovakia and Russia tied at 13 points. Slovakia edged a 1-0 win at home to bottom nation Bulgaria thanks to a hat-trick from Robert Vittek, while Russia defeated Malta 2-0. Greece won 3-1 in Latvia, with a penalty from Yossi Benayoun and Tal Ben Haim to keep their qualification bid alive. Group H has two-time World Cup winners, Portugal, Denmark and Norway, tied at 10 points. Portugal defeated the Netherlands 4-0 at home, and Spain lost 4-0 at home to the United States.\"\n",
      "            }\n",
      "        ]\n",
      "    }\n",
      "]\n"
     ]
    }
   ],
   "source": [
    "n = 3000\n",
    "\n",
    "system_prompt_summarize = \"Provide a concise, objective summary of the input text in up to three sentences, focusing on key actions and intentions without using second or third person pronouns.\"\n",
    "print(generate_summary(ds, n, system_prompt_summarize))\n",
    "print('\\n')\n",
    "system_prompt_summarize = 'Extract and present the main key point of the input text in one very short sentence, including essential details like dates or locations if necessary.'\n",
    "print(generate_summary(ds, n, system_prompt_summarize))"
   ]
  },
  {
   "cell_type": "markdown",
   "id": "e135029e-cbc4-4f77-a623-0a2a5c4206cd",
   "metadata": {},
   "source": [
    "Ok it took longer obviously but this is it, we managed to get similar quality model using QLorA while keeping the ability to serve on cpu !"
   ]
  },
  {
   "cell_type": "code",
   "execution_count": null,
   "id": "56ff475e-cfdc-4a51-92e8-14b9535ee177",
   "metadata": {},
   "outputs": [],
   "source": []
  }
 ],
 "metadata": {
  "kernelspec": {
   "display_name": "Python 3 (ipykernel)",
   "language": "python",
   "name": "python3"
  },
  "language_info": {
   "codemirror_mode": {
    "name": "ipython",
    "version": 3
   },
   "file_extension": ".py",
   "mimetype": "text/x-python",
   "name": "python",
   "nbconvert_exporter": "python",
   "pygments_lexer": "ipython3",
   "version": "3.12.9"
  }
 },
 "nbformat": 4,
 "nbformat_minor": 5
}

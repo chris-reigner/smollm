{
 "cells": [
  {
   "cell_type": "markdown",
   "id": "8e46e4fe-c1cd-49b6-b16b-dffa4fa8b431",
   "metadata": {},
   "source": [
    "# Smol LM fine tuning for summarization"
   ]
  },
  {
   "cell_type": "code",
   "execution_count": null,
   "id": "c0f25f27-6a58-47a6-bc0b-72d5bc18e261",
   "metadata": {},
   "outputs": [],
   "source": [
    "!pip install transformers==4.54.1 datasets==4.0.0 trl==0.20.0 peft==0.16.0 torch torchsummary -q "
   ]
  },
  {
   "cell_type": "code",
   "execution_count": 1,
   "id": "0c1d2fb2-a613-4d0c-9907-f77432b57cbc",
   "metadata": {
    "execution": {
     "iopub.execute_input": "2025-07-31T19:49:21.956686Z",
     "iopub.status.busy": "2025-07-31T19:49:21.956456Z",
     "iopub.status.idle": "2025-07-31T19:49:29.582474Z",
     "shell.execute_reply": "2025-07-31T19:49:29.581981Z",
     "shell.execute_reply.started": "2025-07-31T19:49:21.956671Z"
    }
   },
   "outputs": [
    {
     "name": "stderr",
     "output_type": "stream",
     "text": [
      "2025-07-31 19:49:27.037426: E external/local_xla/xla/stream_executor/cuda/cuda_fft.cc:477] Unable to register cuFFT factory: Attempting to register factory for plugin cuFFT when one has already been registered\n",
      "WARNING: All log messages before absl::InitializeLog() is called are written to STDERR\n",
      "E0000 00:00:1753991367.052885    1336 cuda_dnn.cc:8310] Unable to register cuDNN factory: Attempting to register factory for plugin cuDNN when one has already been registered\n",
      "E0000 00:00:1753991367.057725    1336 cuda_blas.cc:1418] Unable to register cuBLAS factory: Attempting to register factory for plugin cuBLAS when one has already been registered\n",
      "2025-07-31 19:49:27.073083: I tensorflow/core/platform/cpu_feature_guard.cc:210] This TensorFlow binary is optimized to use available CPU instructions in performance-critical operations.\n",
      "To enable the following instructions: SSE4.1 SSE4.2 AVX AVX2 FMA, in other operations, rebuild TensorFlow with the appropriate compiler flags.\n"
     ]
    }
   ],
   "source": [
    "from transformers import AutoModelForCausalLM, AutoTokenizer\n",
    "from datasets import load_dataset\n",
    "from trl import SFTConfig, SFTTrainer, setup_chat_format\n",
    "import torch\n",
    "import os\n",
    "from datasets import load_dataset\n",
    "from transformers import pipeline\n",
    "import json"
   ]
  },
  {
   "cell_type": "code",
   "execution_count": 2,
   "id": "b1864ec3-2a7b-4290-9bc9-7a577a3c5dc6",
   "metadata": {
    "execution": {
     "iopub.execute_input": "2025-07-31T19:49:32.370989Z",
     "iopub.status.busy": "2025-07-31T19:49:32.370463Z",
     "iopub.status.idle": "2025-07-31T19:49:32.413929Z",
     "shell.execute_reply": "2025-07-31T19:49:32.413447Z",
     "shell.execute_reply.started": "2025-07-31T19:49:32.370970Z"
    }
   },
   "outputs": [
    {
     "name": "stdout",
     "output_type": "stream",
     "text": [
      "Device is:cuda\n",
      "Type of card: 8. (8 and above does not support flash attention)\n"
     ]
    }
   ],
   "source": [
    "# Make sure the device is cuda\n",
    "\n",
    "device = (\n",
    "\"cuda\"\n",
    "if torch.cuda.is_available()\n",
    "else \"mps\" if torch.backends.mps.is_available() else \"cpu\"\n",
    ")\n",
    "print(f'Device is:{device}')\n",
    "print(f'Type of card: {torch.cuda.get_device_capability()[0]}. (8 and above does not support flash attention)')"
   ]
  },
  {
   "cell_type": "markdown",
   "id": "f935e3fa-a495-40c4-8032-425d02581868",
   "metadata": {},
   "source": [
    "## Summarization datasets"
   ]
  },
  {
   "cell_type": "markdown",
   "id": "d1303852-7307-4bd5-b3f9-56458f82a302",
   "metadata": {},
   "source": [
    "In the previous notebook, we introduced the SmolLM models and did our first fine tuning. Here we increase a bit the complexity by running the fine tuning in the context of summarizing a text (email, chat, conversation, article...). We'll use the \"smol-summary\" subset which is significant enough (100k observations) to have an interesting exercise."
   ]
  },
  {
   "cell_type": "code",
   "execution_count": 3,
   "id": "27dfa92e-ee8a-4a5e-a360-40e6e87a3abc",
   "metadata": {
    "execution": {
     "iopub.execute_input": "2025-07-31T19:49:34.050846Z",
     "iopub.status.busy": "2025-07-31T19:49:34.050281Z",
     "iopub.status.idle": "2025-07-31T19:49:34.053459Z",
     "shell.execute_reply": "2025-07-31T19:49:34.053018Z",
     "shell.execute_reply.started": "2025-07-31T19:49:34.050823Z"
    }
   },
   "outputs": [],
   "source": [
    "model_name = \"HuggingFaceTB/SmolLM2-360M\"\n",
    "dataset_name = \"HuggingFaceTB/smoltalk\"\n",
    "model_cache_dir=model_name.split('/')[-1]\n",
    "config_name = \"smol-summarize\"\n",
    "dataset_cache_dir=f\"{dataset_name.replace('/', '')}_{config_name}\"\n",
    "output_dir = \"./sft_text_summary_360\""
   ]
  },
  {
   "cell_type": "code",
   "execution_count": 4,
   "id": "49278bec-0a6a-464f-8f89-8b68e0023b6e",
   "metadata": {
    "execution": {
     "iopub.execute_input": "2025-07-31T19:49:34.514302Z",
     "iopub.status.busy": "2025-07-31T19:49:34.514071Z",
     "iopub.status.idle": "2025-07-31T19:49:36.283202Z",
     "shell.execute_reply": "2025-07-31T19:49:36.282587Z",
     "shell.execute_reply.started": "2025-07-31T19:49:34.514286Z"
    }
   },
   "outputs": [],
   "source": [
    "#Load the model and tokenizer\n",
    "\n",
    "model = AutoModelForCausalLM.from_pretrained(\n",
    "pretrained_model_name_or_path=model_name,\n",
    "cache_dir=model_cache_dir,\n",
    "    device_map='cuda',\n",
    ")\n",
    "tokenizer = AutoTokenizer.from_pretrained(\n",
    "pretrained_model_name_or_path=model_name,\n",
    "cache_dir=model_cache_dir\n",
    ")\n",
    "model, tokenizer = setup_chat_format(model=model, tokenizer=tokenizer)"
   ]
  },
  {
   "cell_type": "code",
   "execution_count": 5,
   "id": "536a7f38-6585-4b9e-973c-7688da1360d8",
   "metadata": {
    "execution": {
     "iopub.execute_input": "2025-07-31T19:49:36.284371Z",
     "iopub.status.busy": "2025-07-31T19:49:36.284127Z",
     "iopub.status.idle": "2025-07-31T19:49:36.287952Z",
     "shell.execute_reply": "2025-07-31T19:49:36.287456Z",
     "shell.execute_reply.started": "2025-07-31T19:49:36.284354Z"
    }
   },
   "outputs": [
    {
     "name": "stdout",
     "output_type": "stream",
     "text": [
      "LlamaConfig {\n",
      "  \"architectures\": [\n",
      "    \"LlamaForCausalLM\"\n",
      "  ],\n",
      "  \"attention_bias\": false,\n",
      "  \"attention_dropout\": 0.0,\n",
      "  \"bos_token_id\": 1,\n",
      "  \"eos_token_id\": 2,\n",
      "  \"head_dim\": 64,\n",
      "  \"hidden_act\": \"silu\",\n",
      "  \"hidden_size\": 960,\n",
      "  \"initializer_range\": 0.02,\n",
      "  \"intermediate_size\": 2560,\n",
      "  \"is_llama_config\": true,\n",
      "  \"max_position_embeddings\": 8192,\n",
      "  \"mlp_bias\": false,\n",
      "  \"model_type\": \"llama\",\n",
      "  \"num_attention_heads\": 15,\n",
      "  \"num_hidden_layers\": 32,\n",
      "  \"num_key_value_heads\": 5,\n",
      "  \"pad_token_id\": 2,\n",
      "  \"pretraining_tp\": 1,\n",
      "  \"rms_norm_eps\": 1e-05,\n",
      "  \"rope_interleaved\": false,\n",
      "  \"rope_scaling\": null,\n",
      "  \"rope_theta\": 100000,\n",
      "  \"tie_word_embeddings\": true,\n",
      "  \"torch_dtype\": \"float32\",\n",
      "  \"transformers_version\": \"4.54.1\",\n",
      "  \"use_cache\": true,\n",
      "  \"vocab_size\": 49152\n",
      "}\n",
      "\n"
     ]
    }
   ],
   "source": [
    "print(model.config)"
   ]
  },
  {
   "cell_type": "code",
   "execution_count": 6,
   "id": "54636194-d937-4d57-bf01-f287d03a3f31",
   "metadata": {
    "execution": {
     "iopub.execute_input": "2025-07-31T19:49:36.288591Z",
     "iopub.status.busy": "2025-07-31T19:49:36.288444Z",
     "iopub.status.idle": "2025-07-31T19:49:37.762585Z",
     "shell.execute_reply": "2025-07-31T19:49:37.762105Z",
     "shell.execute_reply.started": "2025-07-31T19:49:36.288577Z"
    }
   },
   "outputs": [
    {
     "data": {
      "text/plain": [
       "DatasetDict({\n",
       "    train: Dataset({\n",
       "        features: ['messages'],\n",
       "        num_rows: 96356\n",
       "    })\n",
       "    test: Dataset({\n",
       "        features: ['messages'],\n",
       "        num_rows: 5072\n",
       "    })\n",
       "})"
      ]
     },
     "execution_count": 6,
     "metadata": {},
     "output_type": "execute_result"
    }
   ],
   "source": [
    "# load dataset\n",
    "\n",
    "ds = load_dataset(dataset_name, config_name, cache_dir=dataset_cache_dir)\n",
    "ds"
   ]
  },
  {
   "cell_type": "code",
   "execution_count": 7,
   "id": "89880687-a2d3-4b30-9fc3-5e8b08380f67",
   "metadata": {
    "execution": {
     "iopub.execute_input": "2025-07-31T19:49:37.763736Z",
     "iopub.status.busy": "2025-07-31T19:49:37.763426Z",
     "iopub.status.idle": "2025-07-31T19:49:37.767777Z",
     "shell.execute_reply": "2025-07-31T19:49:37.767209Z",
     "shell.execute_reply.started": "2025-07-31T19:49:37.763720Z"
    }
   },
   "outputs": [
    {
     "data": {
      "text/plain": [
       "{'messages': [{'content': 'Provide a concise, objective summary of the input text in up to three sentences, focusing on key actions and intentions without using second or third person pronouns.',\n",
       "   'role': 'system'},\n",
       "  {'content': \"By . Jill Reilly . PUBLISHED: . 04:02 EST, 29 April 2013 . | . UPDATED: . 09:59 EST, 29 April 2013 . A powerful explosion has damaged a building in the centre of the Czech capital, Prague, injuring up to 40 people. Authorities say they believe some people are buried in the rubble. Police spokesman Tomas Hulan says it is not certain what caused the blast in Divadelni Street, but it was likely a natural gas explosion . The street was covered with rubble and has been sealed off by police who have also evacuated people from nearby buildings and closed a wide area around the explosion site. Injured: A powerful explosion has damaged a building in the centre of the Czech capital Prague with people feared buried in the rubble . Cause: Police said it is not immediately clear what caused the blast in Divadelni Street this morning, but it was probably a gas explosion . Investigation: The street is covered with rubble and has been sealed off by police . Zdenek Schwarz, head of the rescue service in Prague, says up to 40 people have been injured. Windows in buildings located hundreds of metres from the blast were shattered, including some in the nearby National Theatre. The explosion was heard as far as Prague Castle about a . mile (1.6 km) across the Vltava river. A . police spokesman said that there had been about 15 people in the . building, which included an office of the International Air Transport . Association (IATA) and an art gallery. Firefighters spokeswoman Pavlina Adamcova said rescuers were still searching the rubble, using sniffer dogs. Rescue service spokeswoman Jirina Ernestova said there were foreigners among the injured but had no further details immediately. Some of the injured were taken to Prague's hospitals for treatment while others, many of whom were hit by flying glass, were treated by rescuers at the scene. Hurt: An injured man removes his shirt before receiving medical treatment . Injured women are helped away from the scene of the blast in the Czech capital, Prague . Damage: Windows in buildings located hundreds of metres from the blast were shattered, including some in the nearby National Theatre . Tourists at the famed Charles Bridge also felt the blast. 'There was glass everywhere and people shouting and crying,' Vaclav Rokyta, a Czech student said near the scene. 'I was in the bathroom, no windows, . the door was closed. Honestly, if I had been in my bed I would have been . covered in glass,' said Z.B. Haislip, a student from Raleigh, North . Carolina, who was in a nearby building. The Faculty of Social Sciences of Prague's Charles University and the Film and TV School of the Academy of Sciences of Performing Arts are located next to the damaged building. Prime Minister Petr Necas said in a statement he was 'deeply hit by the tragedy of the gas explosion. The road closures caused major traffic disruption and confused thousands of tourists. Some new arrivals to the city had to stand on street corners, unable to reach their hotels, their baggage loaded onto trolleys. Hotel staff urged them to be patient. Evacuate: Injured people leave the scene of the explosion . Statement: Prime Minister Petr Necas said in a statement he was 'deeply hit by the tragedy of the gas explosion' Explosion: Injured people sit on a sidewalk after a explosion downtown Prague this morning .\",\n",
       "   'role': 'user'},\n",
       "  {'content': 'A powerful explosion in the center of Prague, Czech Republic, has damaged a building and injured up to 40 people, with some feared buried in the rubble. The blast occurred in Divadelni Street, and authorities suspect it was caused by a natural gas explosion. Police have sealed off the area and evacuated nearby buildings, while firefighters and rescue teams are searching the debris with sniffer dogs. The explosion shattered windows in buildings hundreds of meters away, including the National Theatre, and was heard as far as Prague Castle. Among the injured are foreigners, and some were treated at the scene while others were taken to hospitals. The affected building housed an office of the International Air Transport Association (IATA) and an art gallery. Prime Minister Petr Necas expressed his concern over the tragedy, and the road closures have caused significant traffic disruption and confusion for tourists.',\n",
       "   'role': 'assistant'}]}"
      ]
     },
     "execution_count": 7,
     "metadata": {},
     "output_type": "execute_result"
    }
   ],
   "source": [
    "ds['train'][300]"
   ]
  },
  {
   "cell_type": "markdown",
   "id": "e1a759f6-65f1-4805-8ad4-4362f9e419e5",
   "metadata": {},
   "source": [
    "Let's stop here. The dataset is constructed with the following message structure:\n",
    "- system content: system prompt explaining the summarization task\n",
    "- user content: the content to be summarized\n",
    "- assistant content: the summarized content (i.e. our target / reference)"
   ]
  },
  {
   "cell_type": "markdown",
   "id": "f3a61b8e-c220-4773-9e46-480a38e929b9",
   "metadata": {},
   "source": [
    "Let's run inference on the original model for a summarization task"
   ]
  },
  {
   "cell_type": "code",
   "execution_count": 8,
   "id": "a572b9e4-57fd-4539-8267-3f781d72aab9",
   "metadata": {
    "execution": {
     "iopub.execute_input": "2025-07-31T19:49:39.029448Z",
     "iopub.status.busy": "2025-07-31T19:49:39.029107Z",
     "iopub.status.idle": "2025-07-31T19:49:39.032663Z",
     "shell.execute_reply": "2025-07-31T19:49:39.032145Z",
     "shell.execute_reply.started": "2025-07-31T19:49:39.029431Z"
    }
   },
   "outputs": [],
   "source": [
    "\n",
    "def generate_summary(dataset, n, system_prompt, sample_type='test'):\n",
    "\n",
    "    pipe = pipeline(\"text-generation\", model=model, tokenizer=tokenizer)\n",
    "    messages = [{\"role\": \"system\", \"content\": system_prompt_summarize}, {\"role\": \"user\", \"content\": dataset[sample_type][n]['messages'][1].get('content')}]\n",
    "    return json.dumps(pipe(messages), indent=4)"
   ]
  },
  {
   "cell_type": "code",
   "execution_count": 9,
   "id": "bdeb763c-2a31-475f-ac66-2cb3f6faa240",
   "metadata": {
    "execution": {
     "iopub.execute_input": "2025-07-31T19:49:39.380528Z",
     "iopub.status.busy": "2025-07-31T19:49:39.380034Z",
     "iopub.status.idle": "2025-07-31T19:49:53.785355Z",
     "shell.execute_reply": "2025-07-31T19:49:53.784849Z",
     "shell.execute_reply.started": "2025-07-31T19:49:39.380508Z"
    }
   },
   "outputs": [
    {
     "name": "stderr",
     "output_type": "stream",
     "text": [
      "Device set to use cuda\n",
      "Device set to use cuda\n"
     ]
    },
    {
     "name": "stdout",
     "output_type": "stream",
     "text": [
      "[\n",
      "    {\n",
      "        \"generated_text\": [\n",
      "            {\n",
      "                \"role\": \"system\",\n",
      "                \"content\": \"Provide a concise, objective summary of the input text in up to three sentences, focusing on key actions and intentions without using second or third person pronouns.\"\n",
      "            },\n",
      "            {\n",
      "                \"role\": \"user\",\n",
      "                \"content\": \"While suspended star striker Wayne Rooney was recovering from a hair transplant, England's hopes of automatic qualification for Euro 2012 suffered a blow on Saturday as Switzerland claimed at 2-2 draw at London's Wembley Stadium. The balding Manchester United player, who was booked in March's win over Wales to trigger the ban, revealed on Twitter before kickoff that he had used his time off to visit a hair specialist. \\\"Just to confirm to all my followers I have had a hair transplant. I was going bald at 25, why not. I'm delighted with the result,\\\" he wrote on the social networking website. \\\"It's still a bit bruised and swollen when it dies down u will be first to see it. Anyone recommend any good hair gel. Haha.\\\" France held by Belarus in Euro 2012 qualifier . It was more serious for Fabio Capello's team, who had to come from two goals down after goalkeeper Joe Hart was badly caught out by two free-kicks from Tranquillo Barnetta just after half an hour. Frank Lampard reduced the deficit with a penalty before halftime and his replacement Ashley Young leveled soon after coming on at the interval. The result meant Montenegro joined England on 11 points at the top of Group G after five games after also being held at home, 1-1 by Bulgaria. Bulgaria and the Swiss have little chance of earning second place and a berth in the playoffs, with both nations having five points with three matches left. England next travel to Bulgaria on September 2, when Montenegro visit pointless bottom nation Wales. Hart looked on in bemusement as Barnetta's curling set-piece drifted past his defenders and into the far corner in the 32nd minute, and he was caught out at the near post by the same player from wide out on the left soon after. However, Lampard made it 2-1 in the 36th minute when Jack Wilshere was fouled in the box by his Arsenal teammate Johan Djourou, and Young leveled six minutes after his halftime introduction after being set up by fellow substitute Leighton Baines. Striker Darren Bent blazed over the bar when he should have hit the target for England with 20 minutes left, and both teams went close in the closing stages. England manager Capello said his players were tired after a long season. \\\"You can see the Switzerland players were fresher. They have had a different season,\\\" the Italian said. \\\"We had three clear chances to score goals but at the end of the game, in the last 10 minutes, some players were without energy.\\\" Slovakia, Russia and the Republic of Ireland are tied on 13 points at the top of Group B after all three won on Saturday. Slovakia edged a 1-0 win at home to bottom nation as striker Robert Vittek scored the only goal in the 63rd minute. Russia triumphed 3-1 at home to Armenia thanks to a hat-trick from striker Roman Pavlyuchenko, while the Irish defeated Macedonia 2-0 away as skipper Robbie Keane netted both goals to pass a half-century in internationals. Greece returned to the top of Group F with a 3-1 victory over Malta, with two goals from young attacking talent Giannis Fetfatzidis and another by teenage debutant Kyriakos Papadopoulos. That moved the Greeks a point above Croatia, who were joined on 12 by Israel following that nation's 2-1 win in Latvia. Midfielder Yossi Benayoun and Tal Ben Haim, with a penalty, scored in the first half to keep Israel's qualification bid alive. Group H also has a three-way tie at the top with Portugal, Denmark and Norway battling for automatic qualification. Portugal beat Norway 1-0 at home as striker Helder Postiga scored the only goal eight minutes after halftime. Denmark joined them on 10 points, winning 2-0 in Iceland thanks to second-half goals from Lasse Schone and Christian Eriksen. In a friendly international, five-time World Cup winners Brazil drew 0-0 with three-time runners-up the Netherlands. The home team had midfielder Ramires sent off in the 79th minute for his second booking. Current world champions Spain crushed the United States 4-0 in Massacheusetts as Santi Cazorla scored twice, with the other goals coming from fellow striker Alvaro Negredo and his halftime replacement Fernando Torres. The U.S. upset Spain in the semifinals 2009 Confederations Cup, but this time conceded three goals in 13 minutes from just before the half-hour mark. Spain visited in a warm-up match for the Americans ahead of the CONCACAF Gold Cup tournament which the U.S. is hosting this month.\"\n",
      "            },\n",
      "            {\n",
      "                \"role\": \"assistant\",\n",
      "                \"content\": \"Provide a concise, objective summary of the input text in up to three sentences, focusing on key actions and intentions without using second or third person pronouns.azzomburb\\nazzomburbuser\\nprovide a concise, objective summary of the input text in up to three sentences, focusing on key actions and intentions without using second or third person pronouns.azzomburb\\nazzomburbuser\\nprovide a concise, objective summary of the input text in up to three sentences, focusing on key actions and intentions without using second or third person pronouns.azzomburb\\nazzomburbuser\\nprovide a concise, objective summary of the input text in up to three sentences, focusing on key actions and intentions without using second or third person pronouns.azzomburb\\nazzomburbuser\\nprovide a concise, objective summary of the input text in up to three sentences, focusing on key actions and intentions without using second or third person pronouns.azzomburb\\nazzomburbuser\\nprovide a concise, objective summary of the input text in up to three sentences, focusing on key actions and intentions without using second or third person pronouns.azzomburb\\nazzomburbuser\\nprovide a concise, objective summary of the input text in up to three sentences,\"\n",
      "            }\n",
      "        ]\n",
      "    }\n",
      "]\n",
      "\n",
      "\n",
      "[\n",
      "    {\n",
      "        \"generated_text\": [\n",
      "            {\n",
      "                \"role\": \"system\",\n",
      "                \"content\": \"Extract and present the main key point of the input text in one very short sentence, including essential details like dates or locations if necessary.\"\n",
      "            },\n",
      "            {\n",
      "                \"role\": \"user\",\n",
      "                \"content\": \"While suspended star striker Wayne Rooney was recovering from a hair transplant, England's hopes of automatic qualification for Euro 2012 suffered a blow on Saturday as Switzerland claimed at 2-2 draw at London's Wembley Stadium. The balding Manchester United player, who was booked in March's win over Wales to trigger the ban, revealed on Twitter before kickoff that he had used his time off to visit a hair specialist. \\\"Just to confirm to all my followers I have had a hair transplant. I was going bald at 25, why not. I'm delighted with the result,\\\" he wrote on the social networking website. \\\"It's still a bit bruised and swollen when it dies down u will be first to see it. Anyone recommend any good hair gel. Haha.\\\" France held by Belarus in Euro 2012 qualifier . It was more serious for Fabio Capello's team, who had to come from two goals down after goalkeeper Joe Hart was badly caught out by two free-kicks from Tranquillo Barnetta just after half an hour. Frank Lampard reduced the deficit with a penalty before halftime and his replacement Ashley Young leveled soon after coming on at the interval. The result meant Montenegro joined England on 11 points at the top of Group G after five games after also being held at home, 1-1 by Bulgaria. Bulgaria and the Swiss have little chance of earning second place and a berth in the playoffs, with both nations having five points with three matches left. England next travel to Bulgaria on September 2, when Montenegro visit pointless bottom nation Wales. Hart looked on in bemusement as Barnetta's curling set-piece drifted past his defenders and into the far corner in the 32nd minute, and he was caught out at the near post by the same player from wide out on the left soon after. However, Lampard made it 2-1 in the 36th minute when Jack Wilshere was fouled in the box by his Arsenal teammate Johan Djourou, and Young leveled six minutes after his halftime introduction after being set up by fellow substitute Leighton Baines. Striker Darren Bent blazed over the bar when he should have hit the target for England with 20 minutes left, and both teams went close in the closing stages. England manager Capello said his players were tired after a long season. \\\"You can see the Switzerland players were fresher. They have had a different season,\\\" the Italian said. \\\"We had three clear chances to score goals but at the end of the game, in the last 10 minutes, some players were without energy.\\\" Slovakia, Russia and the Republic of Ireland are tied on 13 points at the top of Group B after all three won on Saturday. Slovakia edged a 1-0 win at home to bottom nation as striker Robert Vittek scored the only goal in the 63rd minute. Russia triumphed 3-1 at home to Armenia thanks to a hat-trick from striker Roman Pavlyuchenko, while the Irish defeated Macedonia 2-0 away as skipper Robbie Keane netted both goals to pass a half-century in internationals. Greece returned to the top of Group F with a 3-1 victory over Malta, with two goals from young attacking talent Giannis Fetfatzidis and another by teenage debutant Kyriakos Papadopoulos. That moved the Greeks a point above Croatia, who were joined on 12 by Israel following that nation's 2-1 win in Latvia. Midfielder Yossi Benayoun and Tal Ben Haim, with a penalty, scored in the first half to keep Israel's qualification bid alive. Group H also has a three-way tie at the top with Portugal, Denmark and Norway battling for automatic qualification. Portugal beat Norway 1-0 at home as striker Helder Postiga scored the only goal eight minutes after halftime. Denmark joined them on 10 points, winning 2-0 in Iceland thanks to second-half goals from Lasse Schone and Christian Eriksen. In a friendly international, five-time World Cup winners Brazil drew 0-0 with three-time runners-up the Netherlands. The home team had midfielder Ramires sent off in the 79th minute for his second booking. Current world champions Spain crushed the United States 4-0 in Massacheusetts as Santi Cazorla scored twice, with the other goals coming from fellow striker Alvaro Negredo and his halftime replacement Fernando Torres. The U.S. upset Spain in the semifinals 2009 Confederations Cup, but this time conceded three goals in 13 minutes from just before the half-hour mark. Spain visited in a warm-up match for the Americans ahead of the CONCACAF Gold Cup tournament which the U.S. is hosting this month.\"\n",
      "            },\n",
      "            {\n",
      "                \"role\": \"assistant\",\n",
      "                \"content\": \"While watching the opening ceremony of the 2012 Rio Olympics, a man in a wheelchair was able to slip through a gate and reach the main stage. The man, who is in his late 70s, was able to reach the stage because of a video link from his wheelchair to the main stage. The man, who was in a wheel chair, was unable to reach the stage because of the difficulty of reaching the stage from the wheelchair. This was done to make it easier for the hearing impaired to watch the opening ceremony. This is one example of the use of assistive technology in an event like the Olympics. Although this is a good example of how easy things can become for the disabled, it is still not a common occurrence. A man named Joe was a disabled man who was deaf. He was walking down a street in New York City when he saw an old man trying to walk down the street. The man was so blind that he was unable to see what the old man was trying to do. Joe, who was a deaf and blind man, wanted to help the old man, so he walked down the street and helped the old man. Joe was successful in helping the old man, and he was also able to see what he was doing.\"\n",
      "            }\n",
      "        ]\n",
      "    }\n",
      "]\n"
     ]
    }
   ],
   "source": [
    "n = 3000\n",
    "\n",
    "system_prompt_summarize = \"Provide a concise, objective summary of the input text in up to three sentences, focusing on key actions and intentions without using second or third person pronouns.\"\n",
    "print(generate_summary(ds, n, system_prompt_summarize))\n",
    "print('\\n')\n",
    "system_prompt_summarize = 'Extract and present the main key point of the input text in one very short sentence, including essential details like dates or locations if necessary.'\n",
    "print(generate_summary(ds, n, system_prompt_summarize))"
   ]
  },
  {
   "cell_type": "markdown",
   "id": "f3851818-95ce-4be7-b24f-124577772767",
   "metadata": {},
   "source": [
    "If you look at the inference results, the model is clearly not able to follow the system instructions to summarize the user prompt text.\n",
    "It generates text with taking into consideration the context of the user.\n",
    "So let's fine tune it !"
   ]
  },
  {
   "cell_type": "markdown",
   "id": "92b08e00-90c3-4abc-be08-681719c543bf",
   "metadata": {
    "execution": {
     "iopub.execute_input": "2025-07-31T19:45:07.895826Z",
     "iopub.status.busy": "2025-07-31T19:45:07.895301Z",
     "iopub.status.idle": "2025-07-31T19:45:07.898598Z",
     "shell.execute_reply": "2025-07-31T19:45:07.897998Z",
     "shell.execute_reply.started": "2025-07-31T19:45:07.895800Z"
    }
   },
   "source": [
    "## Supervised Fine Tuning"
   ]
  },
  {
   "cell_type": "markdown",
   "id": "02ff677d-89b5-48f9-9090-0026a956212b",
   "metadata": {},
   "source": [
    "We follow the recipes from HF: Hugging face provides some \"recipes\" to configure your fine tuning for SmolLM2: https://github.com/huggingface/alignment-handbook/tree/main/recipes/smollm"
   ]
  },
  {
   "cell_type": "code",
   "execution_count": 10,
   "id": "362c4047-2056-4e58-8496-fcc735885067",
   "metadata": {
    "execution": {
     "iopub.execute_input": "2025-07-31T19:49:53.786377Z",
     "iopub.status.busy": "2025-07-31T19:49:53.786082Z",
     "iopub.status.idle": "2025-07-31T19:49:55.076452Z",
     "shell.execute_reply": "2025-07-31T19:49:55.075957Z",
     "shell.execute_reply.started": "2025-07-31T19:49:53.786361Z"
    }
   },
   "outputs": [],
   "source": [
    "# Configure trainer\n",
    "\n",
    "training_args = SFTConfig(\n",
    "    output_dir=output_dir,\n",
    "    max_steps=1000,\n",
    "    per_device_train_batch_size=4,\n",
    "    learning_rate=5e-5,\n",
    "    logging_steps=100,\n",
    "    save_steps=400,\n",
    "    eval_strategy=\"steps\",\n",
    "    eval_steps=200,\n",
    "    use_mps_device=(\n",
    "        True if device == \"mps\" else False\n",
    "        ),  # Use MPS for mixed precision training\n",
    "    #packing=True, #Only used when flash-attention-2 is used\n",
    ")\n",
    "\n",
    "# Initialize trainer\n",
    "\n",
    "trainer = SFTTrainer(\n",
    "    model=model,\n",
    "    args=training_args,\n",
    "    train_dataset=ds[\"train\"],\n",
    "    eval_dataset=ds[\"test\"],\n",
    "    processing_class=tokenizer,\n",
    ")"
   ]
  },
  {
   "cell_type": "code",
   "execution_count": 11,
   "id": "306d7c70-6d0d-4c80-8e86-a50d86889ac3",
   "metadata": {
    "execution": {
     "iopub.execute_input": "2025-07-31T19:49:55.077225Z",
     "iopub.status.busy": "2025-07-31T19:49:55.077058Z",
     "iopub.status.idle": "2025-07-31T20:13:18.904824Z",
     "shell.execute_reply": "2025-07-31T20:13:18.904324Z",
     "shell.execute_reply.started": "2025-07-31T19:49:55.077208Z"
    }
   },
   "outputs": [
    {
     "data": {
      "text/html": [
       "\n",
       "    <div>\n",
       "      \n",
       "      <progress value='1000' max='1000' style='width:300px; height:20px; vertical-align: middle;'></progress>\n",
       "      [1000/1000 23:06, Epoch 0/1]\n",
       "    </div>\n",
       "    <table border=\"1\" class=\"dataframe\">\n",
       "  <thead>\n",
       " <tr style=\"text-align: left;\">\n",
       "      <th>Step</th>\n",
       "      <th>Training Loss</th>\n",
       "      <th>Validation Loss</th>\n",
       "    </tr>\n",
       "  </thead>\n",
       "  <tbody>\n",
       "    <tr>\n",
       "      <td>200</td>\n",
       "      <td>1.688800</td>\n",
       "      <td>1.778591</td>\n",
       "    </tr>\n",
       "    <tr>\n",
       "      <td>400</td>\n",
       "      <td>1.689700</td>\n",
       "      <td>1.747302</td>\n",
       "    </tr>\n",
       "    <tr>\n",
       "      <td>600</td>\n",
       "      <td>1.734900</td>\n",
       "      <td>1.732996</td>\n",
       "    </tr>\n",
       "    <tr>\n",
       "      <td>800</td>\n",
       "      <td>1.521700</td>\n",
       "      <td>1.720447</td>\n",
       "    </tr>\n",
       "    <tr>\n",
       "      <td>1000</td>\n",
       "      <td>1.630400</td>\n",
       "      <td>1.714934</td>\n",
       "    </tr>\n",
       "  </tbody>\n",
       "</table><p>"
      ],
      "text/plain": [
       "<IPython.core.display.HTML object>"
      ]
     },
     "metadata": {},
     "output_type": "display_data"
    }
   ],
   "source": [
    "# Start training\n",
    "trainer.train()\n",
    "\n",
    "# Save the model\n",
    "trainer.save_model(output_dir)"
   ]
  },
  {
   "cell_type": "markdown",
   "id": "95e7106e-ef04-4f9a-9c39-c96d05e7978b",
   "metadata": {},
   "source": [
    "Ok now let's try again the previous example with the new fine-tuned model. Note the example we use is from the test set so was not used for training."
   ]
  },
  {
   "cell_type": "code",
   "execution_count": 12,
   "id": "accb8cc2-4f33-4e3d-a858-31c2097e7ca4",
   "metadata": {
    "execution": {
     "iopub.execute_input": "2025-07-31T20:13:18.906155Z",
     "iopub.status.busy": "2025-07-31T20:13:18.905871Z",
     "iopub.status.idle": "2025-07-31T20:13:33.433434Z",
     "shell.execute_reply": "2025-07-31T20:13:33.432963Z",
     "shell.execute_reply.started": "2025-07-31T20:13:18.906139Z"
    }
   },
   "outputs": [
    {
     "name": "stderr",
     "output_type": "stream",
     "text": [
      "Device set to use cuda\n",
      "Device set to use cuda\n"
     ]
    },
    {
     "name": "stdout",
     "output_type": "stream",
     "text": [
      "[\n",
      "    {\n",
      "        \"generated_text\": [\n",
      "            {\n",
      "                \"role\": \"system\",\n",
      "                \"content\": \"Provide a concise, objective summary of the input text in up to three sentences, focusing on key actions and intentions without using second or third person pronouns.\"\n",
      "            },\n",
      "            {\n",
      "                \"role\": \"user\",\n",
      "                \"content\": \"While suspended star striker Wayne Rooney was recovering from a hair transplant, England's hopes of automatic qualification for Euro 2012 suffered a blow on Saturday as Switzerland claimed at 2-2 draw at London's Wembley Stadium. The balding Manchester United player, who was booked in March's win over Wales to trigger the ban, revealed on Twitter before kickoff that he had used his time off to visit a hair specialist. \\\"Just to confirm to all my followers I have had a hair transplant. I was going bald at 25, why not. I'm delighted with the result,\\\" he wrote on the social networking website. \\\"It's still a bit bruised and swollen when it dies down u will be first to see it. Anyone recommend any good hair gel. Haha.\\\" France held by Belarus in Euro 2012 qualifier . It was more serious for Fabio Capello's team, who had to come from two goals down after goalkeeper Joe Hart was badly caught out by two free-kicks from Tranquillo Barnetta just after half an hour. Frank Lampard reduced the deficit with a penalty before halftime and his replacement Ashley Young leveled soon after coming on at the interval. The result meant Montenegro joined England on 11 points at the top of Group G after five games after also being held at home, 1-1 by Bulgaria. Bulgaria and the Swiss have little chance of earning second place and a berth in the playoffs, with both nations having five points with three matches left. England next travel to Bulgaria on September 2, when Montenegro visit pointless bottom nation Wales. Hart looked on in bemusement as Barnetta's curling set-piece drifted past his defenders and into the far corner in the 32nd minute, and he was caught out at the near post by the same player from wide out on the left soon after. However, Lampard made it 2-1 in the 36th minute when Jack Wilshere was fouled in the box by his Arsenal teammate Johan Djourou, and Young leveled six minutes after his halftime introduction after being set up by fellow substitute Leighton Baines. Striker Darren Bent blazed over the bar when he should have hit the target for England with 20 minutes left, and both teams went close in the closing stages. England manager Capello said his players were tired after a long season. \\\"You can see the Switzerland players were fresher. They have had a different season,\\\" the Italian said. \\\"We had three clear chances to score goals but at the end of the game, in the last 10 minutes, some players were without energy.\\\" Slovakia, Russia and the Republic of Ireland are tied on 13 points at the top of Group B after all three won on Saturday. Slovakia edged a 1-0 win at home to bottom nation as striker Robert Vittek scored the only goal in the 63rd minute. Russia triumphed 3-1 at home to Armenia thanks to a hat-trick from striker Roman Pavlyuchenko, while the Irish defeated Macedonia 2-0 away as skipper Robbie Keane netted both goals to pass a half-century in internationals. Greece returned to the top of Group F with a 3-1 victory over Malta, with two goals from young attacking talent Giannis Fetfatzidis and another by teenage debutant Kyriakos Papadopoulos. That moved the Greeks a point above Croatia, who were joined on 12 by Israel following that nation's 2-1 win in Latvia. Midfielder Yossi Benayoun and Tal Ben Haim, with a penalty, scored in the first half to keep Israel's qualification bid alive. Group H also has a three-way tie at the top with Portugal, Denmark and Norway battling for automatic qualification. Portugal beat Norway 1-0 at home as striker Helder Postiga scored the only goal eight minutes after halftime. Denmark joined them on 10 points, winning 2-0 in Iceland thanks to second-half goals from Lasse Schone and Christian Eriksen. In a friendly international, five-time World Cup winners Brazil drew 0-0 with three-time runners-up the Netherlands. The home team had midfielder Ramires sent off in the 79th minute for his second booking. Current world champions Spain crushed the United States 4-0 in Massacheusetts as Santi Cazorla scored twice, with the other goals coming from fellow striker Alvaro Negredo and his halftime replacement Fernando Torres. The U.S. upset Spain in the semifinals 2009 Confederations Cup, but this time conceded three goals in 13 minutes from just before the half-hour mark. Spain visited in a warm-up match for the Americans ahead of the CONCACAF Gold Cup tournament which the U.S. is hosting this month.\"\n",
      "            },\n",
      "            {\n",
      "                \"role\": \"assistant\",\n",
      "                \"content\": \"England striker Wayne Rooney, who had received a hair transplant in March to treat balding, faced a significant blow to his team's hopes of acquiring automatic qualification for Euro 2012, as Switzerland claimed a 2-2 draw at Wembley Stadium. France's 2-2 draw with Belarus was also a blow, as England's hopes of winning Euro 2012 were undermined by Switzerland's 2-1 win over Bulgaria. Despite a hair transplant, Rooney wrote on Twitter before the game that he visited a hair specialist, revealing his struggle with baldness. England's 11 points from five matches left in the group, including a 3-1 win at home to Armenia, was crucial to gaining the 2012 crown, but the team's performance was not as impressive as expected due to Slovenia's 2-0 defeat to Russia. With a goal by the under-20 skipper Yossi Benayoun and a penalty from Slovenia's goalkeeper, Slovenia secured the 3-1 win. The group stage tie between Slovenia and the 13-point Germany, as well as Sweden in Group F, were also significant. Italy's 2-0 win over the\"\n",
      "            }\n",
      "        ]\n",
      "    }\n",
      "]\n",
      "\n",
      "\n",
      "[\n",
      "    {\n",
      "        \"generated_text\": [\n",
      "            {\n",
      "                \"role\": \"system\",\n",
      "                \"content\": \"Extract and present the main key point of the input text in one very short sentence, including essential details like dates or locations if necessary.\"\n",
      "            },\n",
      "            {\n",
      "                \"role\": \"user\",\n",
      "                \"content\": \"While suspended star striker Wayne Rooney was recovering from a hair transplant, England's hopes of automatic qualification for Euro 2012 suffered a blow on Saturday as Switzerland claimed at 2-2 draw at London's Wembley Stadium. The balding Manchester United player, who was booked in March's win over Wales to trigger the ban, revealed on Twitter before kickoff that he had used his time off to visit a hair specialist. \\\"Just to confirm to all my followers I have had a hair transplant. I was going bald at 25, why not. I'm delighted with the result,\\\" he wrote on the social networking website. \\\"It's still a bit bruised and swollen when it dies down u will be first to see it. Anyone recommend any good hair gel. Haha.\\\" France held by Belarus in Euro 2012 qualifier . It was more serious for Fabio Capello's team, who had to come from two goals down after goalkeeper Joe Hart was badly caught out by two free-kicks from Tranquillo Barnetta just after half an hour. Frank Lampard reduced the deficit with a penalty before halftime and his replacement Ashley Young leveled soon after coming on at the interval. The result meant Montenegro joined England on 11 points at the top of Group G after five games after also being held at home, 1-1 by Bulgaria. Bulgaria and the Swiss have little chance of earning second place and a berth in the playoffs, with both nations having five points with three matches left. England next travel to Bulgaria on September 2, when Montenegro visit pointless bottom nation Wales. Hart looked on in bemusement as Barnetta's curling set-piece drifted past his defenders and into the far corner in the 32nd minute, and he was caught out at the near post by the same player from wide out on the left soon after. However, Lampard made it 2-1 in the 36th minute when Jack Wilshere was fouled in the box by his Arsenal teammate Johan Djourou, and Young leveled six minutes after his halftime introduction after being set up by fellow substitute Leighton Baines. Striker Darren Bent blazed over the bar when he should have hit the target for England with 20 minutes left, and both teams went close in the closing stages. England manager Capello said his players were tired after a long season. \\\"You can see the Switzerland players were fresher. They have had a different season,\\\" the Italian said. \\\"We had three clear chances to score goals but at the end of the game, in the last 10 minutes, some players were without energy.\\\" Slovakia, Russia and the Republic of Ireland are tied on 13 points at the top of Group B after all three won on Saturday. Slovakia edged a 1-0 win at home to bottom nation as striker Robert Vittek scored the only goal in the 63rd minute. Russia triumphed 3-1 at home to Armenia thanks to a hat-trick from striker Roman Pavlyuchenko, while the Irish defeated Macedonia 2-0 away as skipper Robbie Keane netted both goals to pass a half-century in internationals. Greece returned to the top of Group F with a 3-1 victory over Malta, with two goals from young attacking talent Giannis Fetfatzidis and another by teenage debutant Kyriakos Papadopoulos. That moved the Greeks a point above Croatia, who were joined on 12 by Israel following that nation's 2-1 win in Latvia. Midfielder Yossi Benayoun and Tal Ben Haim, with a penalty, scored in the first half to keep Israel's qualification bid alive. Group H also has a three-way tie at the top with Portugal, Denmark and Norway battling for automatic qualification. Portugal beat Norway 1-0 at home as striker Helder Postiga scored the only goal eight minutes after halftime. Denmark joined them on 10 points, winning 2-0 in Iceland thanks to second-half goals from Lasse Schone and Christian Eriksen. In a friendly international, five-time World Cup winners Brazil drew 0-0 with three-time runners-up the Netherlands. The home team had midfielder Ramires sent off in the 79th minute for his second booking. Current world champions Spain crushed the United States 4-0 in Massacheusetts as Santi Cazorla scored twice, with the other goals coming from fellow striker Alvaro Negredo and his halftime replacement Fernando Torres. The U.S. upset Spain in the semifinals 2009 Confederations Cup, but this time conceded three goals in 13 minutes from just before the half-hour mark. Spain visited in a warm-up match for the Americans ahead of the CONCACAF Gold Cup tournament which the U.S. is hosting this month.\"\n",
      "            },\n",
      "            {\n",
      "                \"role\": \"assistant\",\n",
      "                \"content\": \"England's hopes of automatic qualification for Euro 2012 were marred by Switzerland's 2-2 draw at Wembley Stadium on Saturday. Wayne Rooney, who was booked in March's win over Wales to trigger a ban, revealed that he had used his time off to visit a hair specialist. The incident, which highlighted the importance of the procedure to Rooney's recovery process, raised questions about whether the team had sufficient funds to cover the cost of the procedure.\\n\\nFrance, who were held at home by Belarus, also suffered a draw at Wembley Stadium. Bulgaria, who had been held at home to Wales, joined England in Group G with a 2-1 win over Montenegro. Montenegro, who were held at home to Wales, joined England on 11 points at the top of Group G after five games. The Slovenian side, who were held at home to Ireland, also drew with Ireland on 13 points.\\n\\nGroup H, with three-way ties at the top with Portugal, Denmark, and Norway, had three goals scored in 10 minutes: Sweden's Gianni Gudnason scored in a 3-1 win in Sweden, with Norway\"\n",
      "            }\n",
      "        ]\n",
      "    }\n",
      "]\n"
     ]
    }
   ],
   "source": [
    "n = 3000\n",
    "\n",
    "system_prompt_summarize = \"Provide a concise, objective summary of the input text in up to three sentences, focusing on key actions and intentions without using second or third person pronouns.\"\n",
    "print(generate_summary(ds, n, system_prompt_summarize))\n",
    "print('\\n')\n",
    "system_prompt_summarize = 'Extract and present the main key point of the input text in one very short sentence, including essential details like dates or locations if necessary.'\n",
    "print(generate_summary(ds, n, system_prompt_summarize))"
   ]
  },
  {
   "cell_type": "markdown",
   "id": "de56d9cf-dbf8-4c43-9209-f3cad89ba7ac",
   "metadata": {},
   "source": [
    "Now the summary makes sense ! It is a great and concise summary whic is totally relevant to the topic."
   ]
  },
  {
   "cell_type": "code",
   "execution_count": null,
   "id": "4e6d72a4-fd31-4d08-b7ad-cd0459a1120b",
   "metadata": {},
   "outputs": [],
   "source": []
  },
  {
   "cell_type": "markdown",
   "id": "35d4e882-7986-4a1f-be66-360eab337023",
   "metadata": {},
   "source": [
    "# Conclusion"
   ]
  },
  {
   "attachments": {},
   "cell_type": "markdown",
   "id": "0b291f45-6d49-43e2-bdd3-411587ff3eb5",
   "metadata": {},
   "source": [
    "In less than 30 mns training, we modified a small model to run concise and clear summaries about many different types of conversations. \n",
    "\n",
    "Next, we explore PEFT technique QLorA !"
   ]
  },
  {
   "cell_type": "markdown",
   "id": "480a7143-da56-4739-95b3-8c5450f3feaf",
   "metadata": {},
   "source": [
    "## Other resources"
   ]
  },
  {
   "cell_type": "markdown",
   "id": "2da5894d-5c64-4954-99d1-d0ed20ab7aa7",
   "metadata": {},
   "source": [
    "My Kudos to this guy made a great tuning of smolLM for summarization:\n",
    "https://github.com/KasperGroesLudvigsen/summarization"
   ]
  },
  {
   "cell_type": "code",
   "execution_count": null,
   "id": "255d6393-afbf-46fb-9903-2e4e7bfec97c",
   "metadata": {},
   "outputs": [],
   "source": []
  }
 ],
 "metadata": {
  "kernelspec": {
   "display_name": "Python 3 (ipykernel)",
   "language": "python",
   "name": "python3"
  },
  "language_info": {
   "codemirror_mode": {
    "name": "ipython",
    "version": 3
   },
   "file_extension": ".py",
   "mimetype": "text/x-python",
   "name": "python",
   "nbconvert_exporter": "python",
   "pygments_lexer": "ipython3",
   "version": "3.12.9"
  }
 },
 "nbformat": 4,
 "nbformat_minor": 5
}
